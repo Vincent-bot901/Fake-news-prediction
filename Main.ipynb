{
 "cells": [
  {
   "cell_type": "markdown",
   "metadata": {},
   "source": [
    "We start by doing preproccesing!\n",
    "\n",
    "This works for both the the large csv and the smaller one."
   ]
  },
  {
   "cell_type": "code",
   "execution_count": 84,
   "metadata": {},
   "outputs": [
    {
     "name": "stderr",
     "output_type": "stream",
     "text": [
      "[nltk_data] Downloading package punkt to\n",
      "[nltk_data]     C:\\Users\\vince\\AppData\\Roaming\\nltk_data...\n",
      "[nltk_data]   Package punkt is already up-to-date!\n",
      "C:\\Users\\vince\\AppData\\Local\\Temp\\ipykernel_5208\\2120715670.py:12: DtypeWarning: Columns (0,1) have mixed types. Specify dtype option on import or set low_memory=False.\n",
      "  df = pd.read_csv('Data/bigdata/big.csv')\n"
     ]
    },
    {
     "name": "stdout",
     "output_type": "stream",
     "text": [
      "womp\n",
      "womp\n"
     ]
    },
    {
     "name": "stderr",
     "output_type": "stream",
     "text": [
      "C:\\Users\\vince\\AppData\\Local\\Temp\\ipykernel_5208\\2120715670.py:37: FutureWarning: A value is trying to be set on a copy of a DataFrame or Series through chained assignment using an inplace method.\n",
      "The behavior will change in pandas 3.0. This inplace method will never work because the intermediate object on which we are setting values always behaves as a copy.\n",
      "\n",
      "For example, when doing 'df[col].method(value, inplace=True)', try using 'df.method({col: value}, inplace=True)' or df[col] = df[col].method(value) instead, to perform the operation inplace on the original object.\n",
      "\n",
      "\n",
      "  df['content'].replace(regex={'\\n{2,}': \"\" }, inplace=True)\n"
     ]
    },
    {
     "name": "stdout",
     "output_type": "stream",
     "text": [
      "whitespace is gone\n"
     ]
    },
    {
     "name": "stderr",
     "output_type": "stream",
     "text": [
      "C:\\Users\\vince\\AppData\\Local\\Temp\\ipykernel_5208\\2120715670.py:41: FutureWarning: DataFrame.applymap has been deprecated. Use DataFrame.map instead.\n",
      "  df = df.applymap(lambda x: x.lower() if isinstance(x, str) else x)\n"
     ]
    },
    {
     "name": "stdout",
     "output_type": "stream",
     "text": [
      "lowercase\n"
     ]
    },
    {
     "name": "stderr",
     "output_type": "stream",
     "text": [
      "C:\\Users\\vince\\AppData\\Local\\Temp\\ipykernel_5208\\2120715670.py:43: FutureWarning: A value is trying to be set on a copy of a DataFrame or Series through chained assignment using an inplace method.\n",
      "The behavior will change in pandas 3.0. This inplace method will never work because the intermediate object on which we are setting values always behaves as a copy.\n",
      "\n",
      "For example, when doing 'df[col].method(value, inplace=True)', try using 'df.method({col: value}, inplace=True)' or df[col] = df[col].method(value) instead, to perform the operation inplace on the original object.\n",
      "\n",
      "\n",
      "  df['content'].replace(regex={'https://[.a-zA-Z0-9/-]+|www[.a-zA-Z0-9/-]+|http://[.a-zA-Z0-9/-]+': '<URL>'}, inplace=True)\n"
     ]
    },
    {
     "name": "stdout",
     "output_type": "stream",
     "text": [
      "URLS gone\n",
      "EMAILS GONE\n",
      "DATE GONE\n",
      "NUM GONE\n"
     ]
    },
    {
     "name": "stderr",
     "output_type": "stream",
     "text": [
      "C:\\Users\\vince\\AppData\\Local\\Temp\\ipykernel_5208\\2120715670.py:52: FutureWarning: A value is trying to be set on a copy of a DataFrame or Series through chained assignment using an inplace method.\n",
      "The behavior will change in pandas 3.0. This inplace method will never work because the intermediate object on which we are setting values always behaves as a copy.\n",
      "\n",
      "For example, when doing 'df[col].method(value, inplace=True)', try using 'df.method({col: value}, inplace=True)' or df[col] = df[col].method(value) instead, to perform the operation inplace on the original object.\n",
      "\n",
      "\n",
      "  df['title'].replace(regex={'\\n{2,}': \"\" }, inplace=True)\n"
     ]
    },
    {
     "name": "stdout",
     "output_type": "stream",
     "text": [
      "whitespace is gone\n"
     ]
    },
    {
     "name": "stderr",
     "output_type": "stream",
     "text": [
      "C:\\Users\\vince\\AppData\\Local\\Temp\\ipykernel_5208\\2120715670.py:56: FutureWarning: DataFrame.applymap has been deprecated. Use DataFrame.map instead.\n",
      "  df = df.applymap(lambda x: x.lower() if isinstance(x, str) else x)\n"
     ]
    },
    {
     "name": "stdout",
     "output_type": "stream",
     "text": [
      "title\n"
     ]
    },
    {
     "name": "stderr",
     "output_type": "stream",
     "text": [
      "C:\\Users\\vince\\AppData\\Local\\Temp\\ipykernel_5208\\2120715670.py:58: FutureWarning: A value is trying to be set on a copy of a DataFrame or Series through chained assignment using an inplace method.\n",
      "The behavior will change in pandas 3.0. This inplace method will never work because the intermediate object on which we are setting values always behaves as a copy.\n",
      "\n",
      "For example, when doing 'df[col].method(value, inplace=True)', try using 'df.method({col: value}, inplace=True)' or df[col] = df[col].method(value) instead, to perform the operation inplace on the original object.\n",
      "\n",
      "\n",
      "  df['title'].replace(regex={'https://[.a-zA-Z0-9/-]+|www[.a-zA-Z0-9/-]+|http://[.a-zA-Z0-9/-]+': '<URL>'}, inplace=True)\n"
     ]
    },
    {
     "name": "stdout",
     "output_type": "stream",
     "text": [
      "URLS gone\n",
      "EMAILS GONE\n",
      "DATE GONE\n",
      "NUM GONE\n",
      "DONE\n"
     ]
    }
   ],
   "source": [
    "import re\n",
    "import pandas as pd\n",
    "import nltk\n",
    "from nltk.stem import PorterStemmer\n",
    "from nltk.corpus import stopwords\n",
    "from nltk import *\n",
    "from nltk.tokenize import word_tokenize\n",
    "\n",
    "porter_stemmer = SnowballStemmer(\"english\")\n",
    "nltk.download('punkt')\n",
    "\n",
    "df = pd.read_csv('Data/bigdata/big.csv')\n",
    "\n",
    "def stem_sentence(sentence):\n",
    "    # Tokenize the sentence\n",
    "    token_words = word_tokenize(sentence)\n",
    "    \n",
    "    # Remove stop words\n",
    "    stop_words = set(stopwords.words('english'))\n",
    "    filtered_words = [word for word in token_words if word.lower() not in stop_words]\n",
    "    \n",
    "    # Stem each word\n",
    "    stemmed_sentence = [porter_stemmer.stem(word) for word in filtered_words]\n",
    "    \n",
    "    # Join the stemmed words into a sentence\n",
    "    return \" \".join(stemmed_sentence)\n",
    "\n",
    "if type(df['content']) == str:\n",
    "    df['content'] = df['content'].apply(stem_sentence)\n",
    "else:\n",
    "    print(\"womp\")\n",
    "if type(df['title']) == str:\n",
    "    df['title'] = df['title'].apply(stem_sentence)\n",
    "else:\n",
    "    print(\"womp\")\n",
    "\n",
    "df['content'].replace(regex={'\\n{2,}': \"\" }, inplace=True)\n",
    "df['content'].replace(regex={'\\t{2,}': \"\" }, inplace=True)\n",
    "df['content'].replace(regex={'\\r{2,}': \"\" }, inplace=True)\n",
    "print(\"whitespace is gone\")\n",
    "df = df.applymap(lambda x: x.lower() if isinstance(x, str) else x)\n",
    "print(\"lowercase\")\n",
    "df['content'].replace(regex={'https://[.a-zA-Z0-9/-]+|www[.a-zA-Z0-9/-]+|http://[.a-zA-Z0-9/-]+': '<URL>'}, inplace=True)\n",
    "print(\"URLS gone\")\n",
    "df['content'].replace(regex={'[a-z]+@[a-z]+.[a-z]+': '<EMAIL>'}, inplace=True)\n",
    "print(\"EMAILS GONE\")\n",
    "df['content'].replace(regex={'([0-9]{2})[/]?[-]?([0-9]{2})[/]?[-]?([0-9]{4})|([0-9]{4})[/]?[-]?([0-9]{2})[/]?[-]?([0-9]{2})': '<DATE>'}, inplace=True)\n",
    "print(\"DATE GONE\")\n",
    "df['content'].replace(regex={'[0-9]+': '<NUM>'}, inplace=True)\n",
    "print(\"NUM GONE\")\n",
    "#Now we do the same for title\n",
    "df['title'].replace(regex={'\\n{2,}': \"\" }, inplace=True)\n",
    "df['title'].replace(regex={'\\t{2,}': \"\" }, inplace=True)\n",
    "df['title'].replace(regex={'\\r{2,}': \"\" }, inplace=True)\n",
    "print(\"whitespace is gone\")\n",
    "df = df.applymap(lambda x: x.lower() if isinstance(x, str) else x)\n",
    "print(\"title\")\n",
    "df['title'].replace(regex={'https://[.a-zA-Z0-9/-]+|www[.a-zA-Z0-9/-]+|http://[.a-zA-Z0-9/-]+': '<URL>'}, inplace=True)\n",
    "print(\"URLS gone\")\n",
    "df['title'].replace(regex={'[a-z]+@[a-z]+.[a-z]+': '<EMAIL>'}, inplace=True)\n",
    "print(\"EMAILS GONE\")\n",
    "df['title'].replace(regex={'([0-9]{2})[/]?[-]?([0-9]{2})[/]?[-]?([0-9]{4})|([0-9]{4})[/]?[-]?([0-9]{2})[/]?[-]?([0-9]{2})': '<DATE>'}, inplace=True)\n",
    "print(\"DATE GONE\")\n",
    "df['title'].replace(regex={'[0-9]+': '<NUM>'}, inplace=True)\n",
    "print(\"NUM GONE\")\n",
    "df.to_csv('Data/otherdata/SOMETHING.csv', index=True)\n",
    "print(\"DONE\")\n"
   ]
  },
  {
   "cell_type": "markdown",
   "metadata": {},
   "source": [
    "We also quickly want to group the labels of the dataset, so that there are only 2 labels one for realnews and one for fakenews."
   ]
  },
  {
   "cell_type": "code",
   "execution_count": 85,
   "metadata": {},
   "outputs": [
    {
     "name": "stderr",
     "output_type": "stream",
     "text": [
      "C:\\Users\\vince\\AppData\\Local\\Temp\\ipykernel_5208\\2291116950.py:4: DtypeWarning: Columns (1,2) have mixed types. Specify dtype option on import or set low_memory=False.\n",
      "  df = pd.read_csv('Data/otherdata/SOMETHING.csv')\n"
     ]
    }
   ],
   "source": [
    "\n",
    "import pandas as pd\n",
    "\n",
    "# Load data from CSV file with specified data types\n",
    "df = pd.read_csv('Data/otherdata/SOMETHING.csv')\n",
    "\n",
    "# Define a function to map types to categories\n",
    "def map_type(Thetype):\n",
    "    if Thetype in ['fake', 'bias', 'hate', 'conspiracy', 'junksci', 'satire', 'state']:\n",
    "        return 'fake'\n",
    "    elif Thetype in ['reliable', 'political', 'clickbait']:\n",
    "        return 'real'\n",
    "    else:\n",
    "        return None\n",
    "\n",
    "df['type'] = df['type'].apply(map_type)\n",
    "\n",
    "something = df.drop(df[df['type'].isnull()].index)\n",
    "LastSomething = something.drop(something[something['content'].isnull()].index)\n",
    "\n",
    "LastSomething.to_csv('Data/otherdata/BIGCLEANED.csv', index=False)"
   ]
  },
  {
   "cell_type": "markdown",
   "metadata": {},
   "source": [
    "Now that we have a preproccesed dataset we can now start building our base model."
   ]
  },
  {
   "cell_type": "code",
   "execution_count": 86,
   "metadata": {},
   "outputs": [
    {
     "data": {
      "text/plain": [
       "['basemodel.joblib']"
      ]
     },
     "execution_count": 86,
     "metadata": {},
     "output_type": "execute_result"
    }
   ],
   "source": [
    "\n",
    "from sklearn.discriminant_analysis import LinearDiscriminantAnalysis\n",
    "from sklearn.feature_extraction.text import TfidfVectorizer\n",
    "from sklearn.linear_model import LogisticRegression\n",
    "from sklearn.model_selection import train_test_split\n",
    "from sklearn.neighbors import KNeighborsClassifier\n",
    "from joblib import dump\n",
    "from sklearn.metrics import accuracy_score\n",
    "import pandas as pd\n",
    "import re\n",
    "from sklearn.metrics import f1_score\n",
    "\n",
    "df = pd.read_csv('Data/otherdata/BIGCLEANED.csv')\n",
    "\n",
    "def count_words(text):\n",
    "    words = text.split()\n",
    "    return len(words)\n",
    "\n",
    "X = df['content'].apply(count_words)\n",
    "Y = df[\"type\"].dropna()  \n",
    "\n",
    "X_train, X_combined_test, y_train, y_combined_test = train_test_split(X, Y, test_size=0.2, random_state=32)\n",
    "\n",
    "\n",
    "X_test1, X_test2, y_test1, y_test2 = train_test_split(X_combined_test, y_combined_test, test_size=0.5, random_state=32 )\n",
    "\n",
    "basemodel = LogisticRegression()\n",
    "\n",
    "# Train the model on the training data\n",
    "basemodel.fit(X_train.values.reshape(-1, 1), y_train)\n",
    "\n",
    "\n",
    "dump(basemodel, 'basemodel.joblib')"
   ]
  },
  {
   "cell_type": "markdown",
   "metadata": {},
   "source": [
    "We want to add meta-data to the model, so we will be traning a new model with the title meta-data, the resoning is shown in the report."
   ]
  },
  {
   "cell_type": "markdown",
   "metadata": {},
   "source": [
    "But to do this we also need to remove all the articles with missing title values."
   ]
  },
  {
   "cell_type": "code",
   "execution_count": 87,
   "metadata": {},
   "outputs": [
    {
     "name": "stderr",
     "output_type": "stream",
     "text": [
      "C:\\Users\\vince\\AppData\\Local\\Temp\\ipykernel_5208\\1585817518.py:4: DtypeWarning: Columns (1,2) have mixed types. Specify dtype option on import or set low_memory=False.\n",
      "  df = pd.read_csv('Data/otherdata/SOMETHING.csv')\n"
     ]
    }
   ],
   "source": [
    "\n",
    "import pandas as pd\n",
    "\n",
    "# Load data from CSV file with specified data types\n",
    "df = pd.read_csv('Data/otherdata/SOMETHING.csv')\n",
    "\n",
    "# Define a function to map types to categories\n",
    "def map_type(Thetype):\n",
    "    if Thetype in ['fake', 'bias', 'hate', 'conspiracy', 'junksci', 'satire', 'state']:\n",
    "        return 'fake'\n",
    "    elif Thetype in ['reliable', 'political', 'clickbait']:\n",
    "        return 'real'\n",
    "    else:\n",
    "        return None\n",
    "\n",
    "df['type'] = df['type'].apply(map_type)\n",
    "\n",
    "something = df.drop(df[df['type'].isnull()].index)\n",
    "LastSomething = something.drop(something[something['content'].isnull()].index)\n",
    "LastLastSomething = LastSomething.drop(LastSomething[LastSomething['title'].isnull()].index) \n",
    "LastLastSomething.to_csv('Data/otherdata/Trainedwithtittle.csv', index=False)\n"
   ]
  },
  {
   "cell_type": "code",
   "execution_count": 88,
   "metadata": {},
   "outputs": [
    {
     "data": {
      "text/plain": [
       "['basemodelwithtitle.joblib']"
      ]
     },
     "execution_count": 88,
     "metadata": {},
     "output_type": "execute_result"
    }
   ],
   "source": [
    "from sklearn.discriminant_analysis import LinearDiscriminantAnalysis\n",
    "from sklearn.feature_extraction.text import TfidfVectorizer\n",
    "from sklearn.linear_model import LogisticRegression\n",
    "from sklearn.model_selection import train_test_split\n",
    "from sklearn.neighbors import KNeighborsClassifier\n",
    "from joblib import dump\n",
    "from sklearn.metrics import accuracy_score\n",
    "import pandas as pd\n",
    "import re\n",
    "from sklearn.metrics import f1_score\n",
    "\n",
    "df = pd.read_csv('Data/otherdata/Trainedwithtittle.csv')\n",
    "\n",
    "def count_words(text):\n",
    "    words = text.split()\n",
    "    return len(words)\n",
    "\n",
    "\n",
    "X =  df['title'].apply(count_words) + df['content'].apply(count_words)\n",
    "Y = df[\"type\"].dropna()  \n",
    "\n",
    "X_train, X_combined_test, y_train, y_combined_test = train_test_split(X, Y, test_size=0.2, random_state=32)\n",
    "\n",
    "\n",
    "X_test1, X_test2, y_test1, y_test2 = train_test_split(X_combined_test, y_combined_test, test_size=0.5, random_state=32 )\n",
    "basemodel = LogisticRegression()\n",
    "\n",
    "# Train the model on the training data\n",
    "basemodel.fit(X_train.values.reshape(-1, 1), y_train)\n",
    "\n",
    "\n",
    "dump(basemodel, 'basemodelwithtitle.joblib')\n"
   ]
  },
  {
   "cell_type": "markdown",
   "metadata": {},
   "source": [
    "Now that we have trained that we will also look at the results."
   ]
  },
  {
   "cell_type": "markdown",
   "metadata": {},
   "source": [
    "Firstly we look at the results of the simple model without meta-data."
   ]
  },
  {
   "cell_type": "code",
   "execution_count": 89,
   "metadata": {},
   "outputs": [
    {
     "name": "stdout",
     "output_type": "stream",
     "text": [
      "BASE MODEL WITHOUT TITLE\n",
      "Accuracy (F1score)0.0\n",
      "Accuracy (Not f1score)0.5452821125494205\n"
     ]
    },
    {
     "name": "stderr",
     "output_type": "stream",
     "text": [
      "c:\\Users\\vince\\anaconda3\\envs\\First\\Lib\\site-packages\\sklearn\\metrics\\_classification.py:1509: UndefinedMetricWarning: Precision is ill-defined and being set to 0.0 in labels with no predicted samples. Use `zero_division` parameter to control this behavior.\n",
      "  _warn_prf(average, modifier, f\"{metric.capitalize()} is\", len(result))\n",
      "c:\\Users\\vince\\anaconda3\\envs\\First\\Lib\\site-packages\\sklearn\\metrics\\_classification.py:1509: UndefinedMetricWarning: Precision is ill-defined and being set to 0.0 in labels with no predicted samples. Use `zero_division` parameter to control this behavior.\n",
      "  _warn_prf(average, modifier, f\"{metric.capitalize()} is\", len(result))\n"
     ]
    },
    {
     "name": "stdout",
     "output_type": "stream",
     "text": [
      "              precision    recall  f1-score   support\n",
      "\n",
      "        fake       0.00      0.00      0.00     36919\n",
      "        real       0.55      1.00      0.71     44272\n",
      "\n",
      "    accuracy                           0.55     81191\n",
      "   macro avg       0.27      0.50      0.35     81191\n",
      "weighted avg       0.30      0.55      0.38     81191\n",
      "\n"
     ]
    },
    {
     "name": "stderr",
     "output_type": "stream",
     "text": [
      "c:\\Users\\vince\\anaconda3\\envs\\First\\Lib\\site-packages\\sklearn\\metrics\\_classification.py:1509: UndefinedMetricWarning: Precision is ill-defined and being set to 0.0 in labels with no predicted samples. Use `zero_division` parameter to control this behavior.\n",
      "  _warn_prf(average, modifier, f\"{metric.capitalize()} is\", len(result))\n"
     ]
    }
   ],
   "source": [
    "\n",
    "from sklearn.discriminant_analysis import LinearDiscriminantAnalysis\n",
    "from sklearn.feature_extraction.text import TfidfVectorizer\n",
    "from sklearn.linear_model import LogisticRegression\n",
    "from sklearn.model_selection import train_test_split\n",
    "from sklearn.neighbors import KNeighborsClassifier\n",
    "from joblib import load, dump\n",
    "from sklearn.metrics import accuracy_score\n",
    "import pandas as pd\n",
    "import collections, numpy\n",
    "from sklearn.metrics import f1_score\n",
    "import re\n",
    "\n",
    "def count_words(text):\n",
    "    words = text.split()\n",
    "    return len(words)\n",
    "\n",
    "df = pd.read_csv('Data/otherdata/BIGCLEANED.csv')\n",
    "X = df[\"content\"].dropna().apply(count_words)\n",
    "y = df[\"type\"].dropna()\n",
    "\n",
    "# Split the data into one training set and one combined test set\n",
    "X_train, X_combined_test, y_train, y_combined_test = train_test_split(X, y, test_size=0.2, random_state=32)\n",
    "\n",
    "# Split the combined test set into two separate test sets\n",
    "X_test1, X_test2, y_test1, y_test2 = train_test_split(X_combined_test, y_combined_test, test_size=0.5, random_state=32 )\n",
    "\n",
    "loaded_model = load('basemodel.joblib')\n",
    "loaded_model.fit(X_train.values.reshape(-1, 1), y_train)\n",
    "# Make predictions using the loaded model\n",
    "predictions = loaded_model.predict(X_test2.values.reshape(-1, 1))\n",
    "\n",
    "print(\"BASE MODEL WITHOUT TITLE\")\n",
    "# Print the predictions\n",
    "f1score = f1_score(y_test2, predictions, pos_label=\"fake\", average='binary')\n",
    "test_accuracy = accuracy_score(y_test2, predictions)\n",
    "print(f'Accuracy (F1score){f1score}')\n",
    "print(f'Accuracy (Not f1score){test_accuracy}')\n",
    "clas = classification_report(y_test2, predictions)\n",
    "print(clas)\n",
    "\n",
    "\n",
    "\n"
   ]
  },
  {
   "cell_type": "markdown",
   "metadata": {},
   "source": [
    "Now we look at the simple model using meta-data."
   ]
  },
  {
   "cell_type": "code",
   "execution_count": 90,
   "metadata": {},
   "outputs": [
    {
     "name": "stdout",
     "output_type": "stream",
     "text": [
      "BASE MODEL WITH TITLE\n",
      "Accuracy (F1score)0.0\n",
      "Accuracy (Not f1score)0.5483039770959108\n"
     ]
    },
    {
     "name": "stderr",
     "output_type": "stream",
     "text": [
      "c:\\Users\\vince\\anaconda3\\envs\\First\\Lib\\site-packages\\sklearn\\metrics\\_classification.py:1509: UndefinedMetricWarning: Precision is ill-defined and being set to 0.0 in labels with no predicted samples. Use `zero_division` parameter to control this behavior.\n",
      "  _warn_prf(average, modifier, f\"{metric.capitalize()} is\", len(result))\n",
      "c:\\Users\\vince\\anaconda3\\envs\\First\\Lib\\site-packages\\sklearn\\metrics\\_classification.py:1509: UndefinedMetricWarning: Precision is ill-defined and being set to 0.0 in labels with no predicted samples. Use `zero_division` parameter to control this behavior.\n",
      "  _warn_prf(average, modifier, f\"{metric.capitalize()} is\", len(result))\n"
     ]
    },
    {
     "name": "stdout",
     "output_type": "stream",
     "text": [
      "              precision    recall  f1-score   support\n",
      "\n",
      "        fake       0.00      0.00      0.00     36287\n",
      "        real       0.55      1.00      0.71     44048\n",
      "\n",
      "    accuracy                           0.55     80335\n",
      "   macro avg       0.27      0.50      0.35     80335\n",
      "weighted avg       0.30      0.55      0.39     80335\n",
      "\n"
     ]
    },
    {
     "name": "stderr",
     "output_type": "stream",
     "text": [
      "c:\\Users\\vince\\anaconda3\\envs\\First\\Lib\\site-packages\\sklearn\\metrics\\_classification.py:1509: UndefinedMetricWarning: Precision is ill-defined and being set to 0.0 in labels with no predicted samples. Use `zero_division` parameter to control this behavior.\n",
      "  _warn_prf(average, modifier, f\"{metric.capitalize()} is\", len(result))\n"
     ]
    }
   ],
   "source": [
    "\n",
    "from sklearn.discriminant_analysis import LinearDiscriminantAnalysis\n",
    "from sklearn.feature_extraction.text import TfidfVectorizer\n",
    "from sklearn.linear_model import LogisticRegression\n",
    "from sklearn.model_selection import train_test_split\n",
    "from sklearn.neighbors import KNeighborsClassifier\n",
    "from joblib import load, dump\n",
    "from sklearn.metrics import accuracy_score\n",
    "import pandas as pd\n",
    "import collections, numpy\n",
    "from sklearn.metrics import f1_score\n",
    "import re\n",
    "\n",
    "def count_words(text):\n",
    "    words = text.split()\n",
    "    return len(words)\n",
    "\n",
    "df = pd.read_csv('Data/otherdata/Trainedwithtittle.csv')\n",
    "X = df[\"content\"].apply(count_words) + df[\"title\"].apply(count_words)\n",
    "y = df[\"type\"].dropna()  \n",
    "\n",
    "# Split the data into one training set and one combined test set\n",
    "X_train, X_combined_test, y_train, y_combined_test = train_test_split(X, y, test_size=0.2, random_state=32)\n",
    "\n",
    "# Split the combined test set into two separate test sets\n",
    "X_test1, X_test2, y_test1, y_test2 = train_test_split(X_combined_test, y_combined_test, test_size=0.5, random_state=32 )\n",
    "\n",
    "loaded_model = load('basemodelwithtitle.joblib')\n",
    "loaded_model.fit(X_train.values.reshape(-1, 1), y_train)\n",
    "# Make predictions using the loaded model\n",
    "predictions = loaded_model.predict(X_test2.values.reshape(-1, 1))\n",
    "\n",
    "print(\"BASE MODEL WITH TITLE\")\n",
    "# Print the predictions\n",
    "f1score = f1_score(y_test2, predictions, pos_label=\"fake\", average='binary')\n",
    "test_accuracy = accuracy_score(y_test2, predictions)\n",
    "print(f'Accuracy (F1score){f1score}')\n",
    "print(f'Accuracy (Not f1score){test_accuracy}')\n",
    "clas = classification_report(y_test2, predictions)\n",
    "print(clas)\n",
    "\n",
    "\n"
   ]
  },
  {
   "cell_type": "markdown",
   "metadata": {},
   "source": [
    "Now we will try add data we scapred from BBC and see how this updates the model."
   ]
  },
  {
   "cell_type": "markdown",
   "metadata": {},
   "source": [
    "First we want to clean the BBC dataset."
   ]
  },
  {
   "cell_type": "code",
   "execution_count": 91,
   "metadata": {},
   "outputs": [
    {
     "name": "stderr",
     "output_type": "stream",
     "text": [
      "[nltk_data] Downloading package punkt to\n",
      "[nltk_data]     C:\\Users\\vince\\AppData\\Roaming\\nltk_data...\n",
      "[nltk_data]   Package punkt is already up-to-date!\n",
      "C:\\Users\\vince\\AppData\\Local\\Temp\\ipykernel_5208\\2011202007.py:29: FutureWarning: A value is trying to be set on a copy of a DataFrame or Series through chained assignment using an inplace method.\n",
      "The behavior will change in pandas 3.0. This inplace method will never work because the intermediate object on which we are setting values always behaves as a copy.\n",
      "\n",
      "For example, when doing 'df[col].method(value, inplace=True)', try using 'df.method({col: value}, inplace=True)' or df[col] = df[col].method(value) instead, to perform the operation inplace on the original object.\n",
      "\n",
      "\n",
      "  df['text'].replace(regex={'\\n{2,}': \"\" }, inplace=True)\n"
     ]
    },
    {
     "name": "stdout",
     "output_type": "stream",
     "text": [
      "whitespace is gone\n"
     ]
    },
    {
     "name": "stderr",
     "output_type": "stream",
     "text": [
      "C:\\Users\\vince\\AppData\\Local\\Temp\\ipykernel_5208\\2011202007.py:33: FutureWarning: DataFrame.applymap has been deprecated. Use DataFrame.map instead.\n",
      "  df = df.applymap(lambda x: x.lower() if isinstance(x, str) else x)\n"
     ]
    },
    {
     "name": "stdout",
     "output_type": "stream",
     "text": [
      "lowercase\n",
      "URLS gone\n"
     ]
    },
    {
     "name": "stderr",
     "output_type": "stream",
     "text": [
      "C:\\Users\\vince\\AppData\\Local\\Temp\\ipykernel_5208\\2011202007.py:35: FutureWarning: A value is trying to be set on a copy of a DataFrame or Series through chained assignment using an inplace method.\n",
      "The behavior will change in pandas 3.0. This inplace method will never work because the intermediate object on which we are setting values always behaves as a copy.\n",
      "\n",
      "For example, when doing 'df[col].method(value, inplace=True)', try using 'df.method({col: value}, inplace=True)' or df[col] = df[col].method(value) instead, to perform the operation inplace on the original object.\n",
      "\n",
      "\n",
      "  df['text'].replace(regex={'https://[.a-zA-Z0-9/-]+|www[.a-zA-Z0-9/-]+|http://[.a-zA-Z0-9/-]+': '<URL>'}, inplace=True)\n"
     ]
    },
    {
     "name": "stdout",
     "output_type": "stream",
     "text": [
      "EMAILS GONE\n",
      "DATE GONE\n",
      "NUM GONE\n",
      "DONE\n"
     ]
    }
   ],
   "source": [
    "import re\n",
    "import pandas as pd\n",
    "import nltk\n",
    "from nltk.stem import PorterStemmer\n",
    "from nltk import *\n",
    "from nltk.tokenize import word_tokenize\n",
    "from nltk.corpus import stopwords\n",
    "\n",
    "porter_stemmer = SnowballStemmer(\"english\")\n",
    "nltk.download('punkt')\n",
    "\n",
    "df = pd.read_csv('Data/otherdata/BBC.csv')\n",
    "\n",
    "def stem_sentence(sentence):\n",
    "    # Tokenize the sentence\n",
    "    token_words = word_tokenize(sentence)\n",
    "    \n",
    "    # Remove stop words\n",
    "    stop_words = set(stopwords.words('english'))\n",
    "    filtered_words = [word for word in token_words if word.lower() not in stop_words]\n",
    "    \n",
    "    # Stem each word\n",
    "    stemmed_sentence = [porter_stemmer.stem(word) for word in filtered_words]\n",
    "    \n",
    "    # Join the stemmed words into a sentence\n",
    "    return \" \".join(stemmed_sentence)\n",
    "\n",
    "\n",
    "df['text'].replace(regex={'\\n{2,}': \"\" }, inplace=True)\n",
    "df['text'].replace(regex={'\\t{2,}': \"\" }, inplace=True)\n",
    "df['text'].replace(regex={'\\r{2,}': \"\" }, inplace=True)\n",
    "print(\"whitespace is gone\")\n",
    "df = df.applymap(lambda x: x.lower() if isinstance(x, str) else x)\n",
    "print(\"lowercase\")\n",
    "df['text'].replace(regex={'https://[.a-zA-Z0-9/-]+|www[.a-zA-Z0-9/-]+|http://[.a-zA-Z0-9/-]+': '<URL>'}, inplace=True)\n",
    "print(\"URLS gone\")\n",
    "df['text'].replace(regex={'[a-z]+@[a-z]+.[a-z]+': '<EMAIL>'}, inplace=True)\n",
    "print(\"EMAILS GONE\")\n",
    "df['text'].replace(regex={'([0-9]{2})[/]?[-]?([0-9]{2})[/]?[-]?([0-9]{4})|([0-9]{4})[/]?[-]?([0-9]{2})[/]?[-]?([0-9]{2})': '<DATE>'}, inplace=True)\n",
    "print(\"DATE GONE\")\n",
    "df['text'].replace(regex={'[0-9]+': '<NUM>'}, inplace=True)\n",
    "print(\"NUM GONE\")\n",
    "df.to_csv('Data/otherdata/CleanBBC.csv', index=True)\n",
    "print(\"DONE\")\n",
    "\n"
   ]
  },
  {
   "cell_type": "markdown",
   "metadata": {},
   "source": [
    "First we have to combine the BBC data with out dataset with title. There after we want to clean the data!"
   ]
  },
  {
   "cell_type": "code",
   "execution_count": 92,
   "metadata": {},
   "outputs": [],
   "source": [
    "import re\n",
    "import pandas as pd\n",
    "\n",
    "df = pd.read_csv('Data/otherdata/Trainedwithtittle.csv')\n",
    "gf = pd.read_csv('Data/otherdata/CleanBBC.csv')\n",
    "\n",
    "gf = gf.rename(columns={'text': 'Content', 'headline': 'title'})\n",
    "gf['type'] = 'real'\n",
    "\n",
    "selected_columns = gf[['Content', 'title', 'type']]\n",
    "\n",
    "combined_df = pd.concat([df, selected_columns], ignore_index=True)\n",
    "\n",
    "# Save the combined DataFrame to a new CSV file\n",
    "combined_df.to_csv('Data/otherdata/Combined.csv', index=False)"
   ]
  },
  {
   "cell_type": "markdown",
   "metadata": {},
   "source": [
    "Now we want to preprocess the data!"
   ]
  },
  {
   "cell_type": "code",
   "execution_count": 93,
   "metadata": {},
   "outputs": [
    {
     "name": "stderr",
     "output_type": "stream",
     "text": [
      "C:\\Users\\vince\\AppData\\Local\\Temp\\ipykernel_5208\\3113449099.py:4: DtypeWarning: Columns (18) have mixed types. Specify dtype option on import or set low_memory=False.\n",
      "  df = pd.read_csv('Data/otherdata/Combined.csv')\n"
     ]
    }
   ],
   "source": [
    "import pandas as pd\n",
    "\n",
    "# Load data from CSV file with specified data types\n",
    "df = pd.read_csv('Data/otherdata/Combined.csv')\n",
    "\n",
    "# Define a function to map types to categories\n",
    "def map_type(Thetype):\n",
    "    if Thetype in ['fake', 'bias', 'hate', 'conspiracy', 'junksci', 'satire', 'state']:\n",
    "        return 'fake'\n",
    "    elif Thetype in ['reliable', 'political']:\n",
    "        return 'real'\n",
    "    elif Thetype in ['real']:\n",
    "        return 'real'\n",
    "    else:\n",
    "        return None\n",
    "\n",
    "df['type'] = df['type'].apply(map_type)\n",
    "\n",
    "something = df.drop(df[df['type'].isnull()].index)\n",
    "LastSomething = something.drop(something[something['content'].isnull()].index)\n",
    "LastLastSomething = LastSomething.drop(LastSomething[LastSomething['title'].isnull()].index) #Use when traning with tittle! \n",
    "LastSomething.to_csv('Data/otherdata/CleanedCombined.csv', index=False)"
   ]
  },
  {
   "cell_type": "markdown",
   "metadata": {},
   "source": [
    "Now we can train the model!"
   ]
  },
  {
   "cell_type": "code",
   "execution_count": 94,
   "metadata": {},
   "outputs": [
    {
     "name": "stdout",
     "output_type": "stream",
     "text": [
      "803345\n",
      "803345\n"
     ]
    },
    {
     "data": {
      "text/plain": [
       "['basemodelBBC.joblib']"
      ]
     },
     "execution_count": 94,
     "metadata": {},
     "output_type": "execute_result"
    }
   ],
   "source": [
    "\n",
    "\n",
    "from sklearn.discriminant_analysis import LinearDiscriminantAnalysis\n",
    "from sklearn.feature_extraction.text import TfidfVectorizer\n",
    "from sklearn.linear_model import LogisticRegression\n",
    "from sklearn.model_selection import train_test_split\n",
    "from sklearn.neighbors import KNeighborsClassifier\n",
    "from joblib import dump\n",
    "from sklearn.metrics import accuracy_score\n",
    "import pandas as pd\n",
    "import re\n",
    "from sklearn.metrics import f1_score\n",
    "\n",
    "df = pd.read_csv('Data/otherdata/CleanedCombined.csv')\n",
    "\n",
    "def count_words(text):\n",
    "    words = text.split()\n",
    "    return len(words)\n",
    "\n",
    "\n",
    "X = df['content'].apply(count_words) + df['title'].apply(count_words)\n",
    "Y = df[\"type\"] \n",
    "\n",
    "print(len(X))\n",
    "print(len(Y))\n",
    "X_train, X_combined_test, y_train, y_combined_test = train_test_split(X, Y, test_size=0.2, random_state=32)\n",
    "\n",
    "\n",
    "X_test1, X_test2, y_test1, y_test2 = train_test_split(X_combined_test, y_combined_test, test_size=0.5, random_state=32 )\n",
    "basemodel = LogisticRegression()\n",
    "\n",
    "# Train the model on the training data\n",
    "basemodel.fit(X_train.values.reshape(-1, 1), y_train)\n",
    "\n",
    "dump(basemodel, 'basemodelBBC.joblib')\n"
   ]
  },
  {
   "cell_type": "markdown",
   "metadata": {},
   "source": [
    "Now we can test the results of the simple model with title meta-data and BBC news."
   ]
  },
  {
   "cell_type": "code",
   "execution_count": 121,
   "metadata": {},
   "outputs": [
    {
     "name": "stdout",
     "output_type": "stream",
     "text": [
      "BASE MODEL with BBC and TITLE\n",
      "Accuracy (F1score)0.0\n",
      "Accuracy (Not f1score)0.5483039770959108\n"
     ]
    },
    {
     "name": "stderr",
     "output_type": "stream",
     "text": [
      "c:\\Users\\vince\\anaconda3\\envs\\First\\Lib\\site-packages\\sklearn\\metrics\\_classification.py:1509: UndefinedMetricWarning: Precision is ill-defined and being set to 0.0 in labels with no predicted samples. Use `zero_division` parameter to control this behavior.\n",
      "  _warn_prf(average, modifier, f\"{metric.capitalize()} is\", len(result))\n",
      "c:\\Users\\vince\\anaconda3\\envs\\First\\Lib\\site-packages\\sklearn\\metrics\\_classification.py:1509: UndefinedMetricWarning: Precision is ill-defined and being set to 0.0 in labels with no predicted samples. Use `zero_division` parameter to control this behavior.\n",
      "  _warn_prf(average, modifier, f\"{metric.capitalize()} is\", len(result))\n"
     ]
    },
    {
     "name": "stdout",
     "output_type": "stream",
     "text": [
      "              precision    recall  f1-score   support\n",
      "\n",
      "        fake       0.00      0.00      0.00     36287\n",
      "        real       0.55      1.00      0.71     44048\n",
      "\n",
      "    accuracy                           0.55     80335\n",
      "   macro avg       0.27      0.50      0.35     80335\n",
      "weighted avg       0.30      0.55      0.39     80335\n",
      "\n"
     ]
    },
    {
     "name": "stderr",
     "output_type": "stream",
     "text": [
      "c:\\Users\\vince\\anaconda3\\envs\\First\\Lib\\site-packages\\sklearn\\metrics\\_classification.py:1509: UndefinedMetricWarning: Precision is ill-defined and being set to 0.0 in labels with no predicted samples. Use `zero_division` parameter to control this behavior.\n",
      "  _warn_prf(average, modifier, f\"{metric.capitalize()} is\", len(result))\n"
     ]
    }
   ],
   "source": [
    "\n",
    "from sklearn.discriminant_analysis import LinearDiscriminantAnalysis\n",
    "from sklearn.feature_extraction.text import TfidfVectorizer\n",
    "from sklearn.linear_model import LogisticRegression\n",
    "from sklearn.model_selection import train_test_split\n",
    "from sklearn.neighbors import KNeighborsClassifier\n",
    "from joblib import load, dump\n",
    "import re\n",
    "from sklearn.metrics import *\n",
    "import pandas as pd\n",
    "import collections, numpy\n",
    "from sklearn.metrics import f1_score\n",
    "\n",
    "def count_words(text):\n",
    "    words = text.split()\n",
    "    return len(words)\n",
    "\n",
    "df = pd.read_csv('Data/otherdata/CleanedCombined.csv')\n",
    "X = df['content'].apply(count_words) + df['title'].apply(count_words)\n",
    "y = df[\"type\"]\n",
    "\n",
    "# Split the data into one training set and one combined test set\n",
    "X_train, X_combined_test, y_train, y_combined_test = train_test_split(X, y, test_size=0.2, random_state=32)\n",
    "\n",
    "# Split the combined test set into two separate test sets\n",
    "X_test1, X_test2, y_test1, y_test2 = train_test_split(X_combined_test, y_combined_test, test_size=0.5, random_state=32 )\n",
    "\n",
    "loaded_model = load('basemodelBBC.joblib')\n",
    "\n",
    "loaded_model.fit(X_train.values.reshape(-1, 1), y_train)\n",
    "\n",
    "predictions = loaded_model.predict(X_test2.values.reshape(-1, 1))\n",
    "\n",
    "\n",
    "print(\"BASE MODEL with BBC and TITLE\")\n",
    "# Print the predictions\n",
    "f1score = f1_score(y_test2, predictions, pos_label=\"fake\", average='binary')\n",
    "test_accuracy = accuracy_score(y_test2, predictions)\n",
    "print(f'Accuracy (F1score){f1score}')\n",
    "print(f'Accuracy (Not f1score){test_accuracy}')\n",
    "clas = classification_report(y_test2, predictions)\n",
    "print(clas)\n",
    "\n"
   ]
  },
  {
   "cell_type": "markdown",
   "metadata": {},
   "source": [
    "Now we will try the new simple model that uses diffrent data."
   ]
  },
  {
   "cell_type": "code",
   "execution_count": 114,
   "metadata": {},
   "outputs": [
    {
     "data": {
      "text/plain": [
       "['basemodelvec.joblib']"
      ]
     },
     "execution_count": 114,
     "metadata": {},
     "output_type": "execute_result"
    }
   ],
   "source": [
    "\n",
    "\n",
    "from sklearn.discriminant_analysis import LinearDiscriminantAnalysis\n",
    "from sklearn.feature_extraction.text import CountVectorizer\n",
    "from sklearn.linear_model import LogisticRegression\n",
    "from sklearn.model_selection import train_test_split\n",
    "from sklearn.neighbors import KNeighborsClassifier\n",
    "from joblib import dump\n",
    "from sklearn.metrics import accuracy_score\n",
    "import pandas as pd\n",
    "import re\n",
    "from sklearn.metrics import f1_score\n",
    "\n",
    "df = pd.read_csv('Data/otherdata/BIGCLEANED.csv')\n",
    "\n",
    "X = df['content']\n",
    "Y = df[\"type\"]  \n",
    "\n",
    "X_train, X_combined_test, y_train, y_combined_test = train_test_split(X, Y, test_size=0.2, random_state=32)\n",
    "\n",
    "\n",
    "X_test1, X_test2, y_test1, y_test2 = train_test_split(X_combined_test, y_combined_test, test_size=0.5, random_state=32 )\n",
    "\n",
    "basemodel = LogisticRegression()\n",
    "big_difference_tokens = []\n",
    "file_path = 'Data/otherdata/big_difference_tokens.txt'\n",
    "\n",
    "# Open the file in read mode\n",
    "with open(file_path, 'r') as file:\n",
    "    # Read each line from the file\n",
    "    for line in file:\n",
    "        # Append the line to the list, removing leading/trailing whitespace if needed\n",
    "        big_difference_tokens.append(line.strip())\n",
    "\n",
    "\n",
    "vectorizer = CountVectorizer(vocabulary=big_difference_tokens, max_features=50)\n",
    "\n",
    "basemodel.fit(vectorizer.fit_transform(X_train), y_train)\n",
    "\n",
    "dump(basemodel, 'basemodelnew.joblib')\n",
    "dump(vectorizer, 'basemodelvec.joblib')"
   ]
  },
  {
   "cell_type": "markdown",
   "metadata": {},
   "source": [
    "Now lets see the preformance of the simple model using the new data."
   ]
  },
  {
   "cell_type": "code",
   "execution_count": 115,
   "metadata": {},
   "outputs": [
    {
     "name": "stdout",
     "output_type": "stream",
     "text": [
      "BASE MODEL with NEW DATA\n",
      "Accuracy (F1score)0.713505128383228\n",
      "Accuracy (Not f1score)0.6951878902834058\n",
      "              precision    recall  f1-score   support\n",
      "\n",
      "        fake       0.62      0.83      0.71     36919\n",
      "        real       0.81      0.58      0.67     44272\n",
      "\n",
      "    accuracy                           0.70     81191\n",
      "   macro avg       0.72      0.71      0.69     81191\n",
      "weighted avg       0.72      0.70      0.69     81191\n",
      "\n"
     ]
    }
   ],
   "source": [
    "\n",
    "from sklearn.discriminant_analysis import LinearDiscriminantAnalysis\n",
    "from sklearn.feature_extraction.text import CountVectorizer\n",
    "from sklearn.linear_model import LogisticRegression\n",
    "from sklearn.model_selection import train_test_split\n",
    "from sklearn.neighbors import KNeighborsClassifier\n",
    "from joblib import load, dump\n",
    "import re\n",
    "from sklearn.metrics import *\n",
    "import pandas as pd\n",
    "import collections, numpy\n",
    "from sklearn.metrics import f1_score\n",
    "\n",
    "\n",
    "df = pd.read_csv('Data/otherdata/BIGCLEANED.csv')\n",
    "X = df['content']\n",
    "y = df[\"type\"].dropna()\n",
    "\n",
    "# Split the data into one training set and one combined test set\n",
    "X_train, X_combined_test, y_train, y_combined_test = train_test_split(X, y, test_size=0.2, random_state=32)\n",
    "\n",
    "# Split the combined test set into two separate test sets\n",
    "X_test1, X_test2, y_test1, y_test2 = train_test_split(X_combined_test, y_combined_test, test_size=0.5, random_state=32 )\n",
    "\n",
    "loaded_model = load('basemodelnew.joblib')\n",
    "\n",
    "vectorizer = load('basemodelvec.joblib')\n",
    "\n",
    "predictions = loaded_model.predict(vectorizer.transform(X_test2))\n",
    "\n",
    "print(\"BASE MODEL with NEW DATA\")\n",
    "# Print the predictions\n",
    "f1score = f1_score(y_test2, predictions, pos_label=\"fake\", average='binary')\n",
    "test_accuracy = accuracy_score(y_test2, predictions)\n",
    "print(f'Accuracy (F1score){f1score}')\n",
    "print(f'Accuracy (Not f1score){test_accuracy}')\n",
    "clas = classification_report(y_test2, predictions)\n",
    "print(clas)\n",
    "\n"
   ]
  },
  {
   "cell_type": "markdown",
   "metadata": {},
   "source": [
    "Simple model with title using New data"
   ]
  },
  {
   "cell_type": "code",
   "execution_count": 116,
   "metadata": {},
   "outputs": [
    {
     "data": {
      "text/plain": [
       "['basemodelwithtitlVec.joblib']"
      ]
     },
     "execution_count": 116,
     "metadata": {},
     "output_type": "execute_result"
    }
   ],
   "source": [
    "\n",
    "\n",
    "from sklearn.discriminant_analysis import LinearDiscriminantAnalysis\n",
    "from sklearn.feature_extraction.text import CountVectorizer\n",
    "from sklearn.linear_model import LogisticRegression\n",
    "from sklearn.model_selection import train_test_split\n",
    "from sklearn.neighbors import KNeighborsClassifier\n",
    "from joblib import dump\n",
    "from sklearn.metrics import accuracy_score\n",
    "import pandas as pd\n",
    "import re\n",
    "from sklearn.metrics import f1_score\n",
    "\n",
    "df = pd.read_csv('Data/otherdata/Trainedwithtittle.csv')\n",
    "\n",
    "X = df['content'] + df['title']\n",
    "Y = df[\"type\"].dropna()  \n",
    "\n",
    "X_train, X_combined_test, y_train, y_combined_test = train_test_split(X, Y, test_size=0.2, random_state=32)\n",
    "\n",
    "\n",
    "X_test1, X_test2, y_test1, y_test2 = train_test_split(X_combined_test, y_combined_test, test_size=0.5, random_state=32 )\n",
    "\n",
    "basemodel = LogisticRegression()\n",
    "big_difference_tokens = []\n",
    "file_path = 'Data/otherdata/big_difference_tokens.txt'\n",
    "\n",
    "# Open the file in read mode\n",
    "with open(file_path, 'r') as file:\n",
    "    # Read each line from the file\n",
    "    for line in file:\n",
    "        # Append the line to the list, removing leading/trailing whitespace if needed\n",
    "        big_difference_tokens.append(line.strip())\n",
    "\n",
    "\n",
    "vectorizer = CountVectorizer(vocabulary=big_difference_tokens, max_features=50)\n",
    "\n",
    "basemodel.fit(vectorizer.fit_transform(X_train), y_train)\n",
    "dump(basemodel, 'basemodelwithtitlenew.joblib')\n",
    "dump(vectorizer, 'basemodelwithtitlVec.joblib')"
   ]
  },
  {
   "cell_type": "markdown",
   "metadata": {},
   "source": [
    "Now test the simple model with new data and title "
   ]
  },
  {
   "cell_type": "code",
   "execution_count": 117,
   "metadata": {},
   "outputs": [
    {
     "name": "stdout",
     "output_type": "stream",
     "text": [
      "BASE MODEL NEW DATA with title\n",
      "Accuracy (F1score)0.7083323444953367\n",
      "Accuracy (Not f1score)0.6940312441650588\n",
      "              precision    recall  f1-score   support\n",
      "\n",
      "        fake       0.62      0.82      0.71     36287\n",
      "        real       0.80      0.59      0.68     44048\n",
      "\n",
      "    accuracy                           0.69     80335\n",
      "   macro avg       0.71      0.71      0.69     80335\n",
      "weighted avg       0.72      0.69      0.69     80335\n",
      "\n"
     ]
    }
   ],
   "source": [
    "\n",
    "from sklearn.discriminant_analysis import LinearDiscriminantAnalysis\n",
    "from sklearn.feature_extraction.text import CountVectorizer\n",
    "from sklearn.linear_model import LogisticRegression\n",
    "from sklearn.model_selection import train_test_split\n",
    "from sklearn.neighbors import KNeighborsClassifier\n",
    "from joblib import load, dump\n",
    "import re\n",
    "from sklearn.metrics import *\n",
    "import pandas as pd\n",
    "import collections, numpy\n",
    "from sklearn.metrics import f1_score\n",
    "\n",
    "df = pd.read_csv('Data/otherdata/Trainedwithtittle.csv')\n",
    "X = df['content'].dropna() + df['title'].dropna()\n",
    "Y = df[\"type\"].dropna()\n",
    "\n",
    "\n",
    "# Split the data into one training set and one combined test set\n",
    "X_train, X_combined_test, y_train, y_combined_test = train_test_split(X, Y, test_size=0.2, random_state=32)\n",
    "\n",
    "# Split the combined test set into two separate test sets\n",
    "X_test1, X_test2, y_test1, y_test2 = train_test_split(X_combined_test, y_combined_test, test_size=0.5, random_state=32 )\n",
    "\n",
    "loaded_model = load('basemodelwithtitlenew.joblib')\n",
    "\n",
    "vectorizer = load('basemodelwithtitlVec.joblib')\n",
    "\n",
    "predictions = loaded_model.predict(vectorizer.transform(X_test2))\n",
    "\n",
    "print(\"BASE MODEL NEW DATA with title\")\n",
    "# Print the predictions\n",
    "f1score = f1_score(y_test2, predictions, pos_label=\"fake\", average='binary')\n",
    "test_accuracy = accuracy_score(y_test2, predictions)\n",
    "print(f'Accuracy (F1score){f1score}')\n",
    "print(f'Accuracy (Not f1score){test_accuracy}')\n",
    "clas = classification_report(y_test2, predictions)\n",
    "print(clas)\n",
    "\n"
   ]
  },
  {
   "cell_type": "markdown",
   "metadata": {},
   "source": [
    "Now we will train the simple model with new data title and bbs"
   ]
  },
  {
   "cell_type": "code",
   "execution_count": 119,
   "metadata": {},
   "outputs": [
    {
     "ename": "KeyboardInterrupt",
     "evalue": "",
     "output_type": "error",
     "traceback": [
      "\u001b[1;31m---------------------------------------------------------------------------\u001b[0m",
      "\u001b[1;31mKeyboardInterrupt\u001b[0m                         Traceback (most recent call last)",
      "\u001b[1;31mKeyboardInterrupt\u001b[0m: "
     ]
    }
   ],
   "source": [
    "\n",
    "\n",
    "from sklearn.discriminant_analysis import LinearDiscriminantAnalysis\n",
    "from sklearn.feature_extraction.text import CountVectorizer\n",
    "from sklearn.linear_model import LogisticRegression\n",
    "from sklearn.model_selection import train_test_split\n",
    "from sklearn.neighbors import KNeighborsClassifier\n",
    "from joblib import dump\n",
    "from sklearn.metrics import accuracy_score\n",
    "import pandas as pd\n",
    "import re\n",
    "from sklearn.metrics import f1_score\n",
    "\n",
    "df = pd.read_csv('Data/otherdata/CleanedCombined.csv')\n",
    "\n",
    "X = df['content'] + df['title']\n",
    "Y = df[\"type\"].dropna()  \n",
    "\n",
    "X_train, X_combined_test, y_train, y_combined_test = train_test_split(X, Y, test_size=0.2, random_state=32)\n",
    "\n",
    "\n",
    "X_test1, X_test2, y_test1, y_test2 = train_test_split(X_combined_test, y_combined_test, test_size=0.5, random_state=32 )\n",
    "\n",
    "basemodel = LogisticRegression()\n",
    "big_difference_tokens = []\n",
    "file_path = 'Data/otherdata/big_difference_tokens.txt'\n",
    "\n",
    "# Open the file in read mode\n",
    "with open(file_path, 'r') as file:\n",
    "    # Read each line from the file\n",
    "    for line in file:\n",
    "        # Append the line to the list, removing leading/trailing whitespace if needed\n",
    "        big_difference_tokens.append(line.strip())\n",
    "\n",
    "vectorizer = CountVectorizer(vocabulary=big_difference_tokens, max_features=50)\n",
    "\n",
    "basemodel.fit(vectorizer.fit_transform(X_train), y_train)\n",
    "dump(basemodel, 'basemodelBBCnew.joblib')\n",
    "dump(vectorizer, 'basemodelBBCVec.joblib')"
   ]
  },
  {
   "cell_type": "markdown",
   "metadata": {},
   "source": [
    "Lets look at the results of the simple model with BBC News new data and title."
   ]
  },
  {
   "cell_type": "code",
   "execution_count": 118,
   "metadata": {},
   "outputs": [
    {
     "ename": "ParserError",
     "evalue": "Error tokenizing data. C error: Calling read(nbytes) on source failed. Try engine='python'.",
     "output_type": "error",
     "traceback": [
      "\u001b[1;31m---------------------------------------------------------------------------\u001b[0m",
      "\u001b[1;31mParserError\u001b[0m                               Traceback (most recent call last)",
      "Cell \u001b[1;32mIn[118], line 13\u001b[0m\n\u001b[0;32m     10\u001b[0m \u001b[38;5;28;01mimport\u001b[39;00m \u001b[38;5;21;01mcollections\u001b[39;00m\u001b[38;5;241m,\u001b[39m \u001b[38;5;21;01mnumpy\u001b[39;00m\n\u001b[0;32m     11\u001b[0m \u001b[38;5;28;01mfrom\u001b[39;00m \u001b[38;5;21;01msklearn\u001b[39;00m\u001b[38;5;21;01m.\u001b[39;00m\u001b[38;5;21;01mmetrics\u001b[39;00m \u001b[38;5;28;01mimport\u001b[39;00m f1_score\n\u001b[1;32m---> 13\u001b[0m df \u001b[38;5;241m=\u001b[39m pd\u001b[38;5;241m.\u001b[39mread_csv(\u001b[38;5;124m'\u001b[39m\u001b[38;5;124mData/otherdata/CleanedCombined.csv\u001b[39m\u001b[38;5;124m'\u001b[39m)\n\u001b[0;32m     14\u001b[0m X \u001b[38;5;241m=\u001b[39m df[\u001b[38;5;124m'\u001b[39m\u001b[38;5;124mcontent\u001b[39m\u001b[38;5;124m'\u001b[39m] \u001b[38;5;241m+\u001b[39m df[\u001b[38;5;124m'\u001b[39m\u001b[38;5;124mtitle\u001b[39m\u001b[38;5;124m'\u001b[39m]\n\u001b[0;32m     15\u001b[0m Y \u001b[38;5;241m=\u001b[39m df[\u001b[38;5;124m\"\u001b[39m\u001b[38;5;124mtype\u001b[39m\u001b[38;5;124m\"\u001b[39m]\u001b[38;5;241m.\u001b[39mdropna()\n",
      "File \u001b[1;32mc:\\Users\\vince\\anaconda3\\envs\\First\\Lib\\site-packages\\pandas\\io\\parsers\\readers.py:1026\u001b[0m, in \u001b[0;36mread_csv\u001b[1;34m(filepath_or_buffer, sep, delimiter, header, names, index_col, usecols, dtype, engine, converters, true_values, false_values, skipinitialspace, skiprows, skipfooter, nrows, na_values, keep_default_na, na_filter, verbose, skip_blank_lines, parse_dates, infer_datetime_format, keep_date_col, date_parser, date_format, dayfirst, cache_dates, iterator, chunksize, compression, thousands, decimal, lineterminator, quotechar, quoting, doublequote, escapechar, comment, encoding, encoding_errors, dialect, on_bad_lines, delim_whitespace, low_memory, memory_map, float_precision, storage_options, dtype_backend)\u001b[0m\n\u001b[0;32m   1013\u001b[0m kwds_defaults \u001b[38;5;241m=\u001b[39m _refine_defaults_read(\n\u001b[0;32m   1014\u001b[0m     dialect,\n\u001b[0;32m   1015\u001b[0m     delimiter,\n\u001b[1;32m   (...)\u001b[0m\n\u001b[0;32m   1022\u001b[0m     dtype_backend\u001b[38;5;241m=\u001b[39mdtype_backend,\n\u001b[0;32m   1023\u001b[0m )\n\u001b[0;32m   1024\u001b[0m kwds\u001b[38;5;241m.\u001b[39mupdate(kwds_defaults)\n\u001b[1;32m-> 1026\u001b[0m \u001b[38;5;28;01mreturn\u001b[39;00m _read(filepath_or_buffer, kwds)\n",
      "File \u001b[1;32mc:\\Users\\vince\\anaconda3\\envs\\First\\Lib\\site-packages\\pandas\\io\\parsers\\readers.py:626\u001b[0m, in \u001b[0;36m_read\u001b[1;34m(filepath_or_buffer, kwds)\u001b[0m\n\u001b[0;32m    623\u001b[0m     \u001b[38;5;28;01mreturn\u001b[39;00m parser\n\u001b[0;32m    625\u001b[0m \u001b[38;5;28;01mwith\u001b[39;00m parser:\n\u001b[1;32m--> 626\u001b[0m     \u001b[38;5;28;01mreturn\u001b[39;00m parser\u001b[38;5;241m.\u001b[39mread(nrows)\n",
      "File \u001b[1;32mc:\\Users\\vince\\anaconda3\\envs\\First\\Lib\\site-packages\\pandas\\io\\parsers\\readers.py:1923\u001b[0m, in \u001b[0;36mTextFileReader.read\u001b[1;34m(self, nrows)\u001b[0m\n\u001b[0;32m   1916\u001b[0m nrows \u001b[38;5;241m=\u001b[39m validate_integer(\u001b[38;5;124m\"\u001b[39m\u001b[38;5;124mnrows\u001b[39m\u001b[38;5;124m\"\u001b[39m, nrows)\n\u001b[0;32m   1917\u001b[0m \u001b[38;5;28;01mtry\u001b[39;00m:\n\u001b[0;32m   1918\u001b[0m     \u001b[38;5;66;03m# error: \"ParserBase\" has no attribute \"read\"\u001b[39;00m\n\u001b[0;32m   1919\u001b[0m     (\n\u001b[0;32m   1920\u001b[0m         index,\n\u001b[0;32m   1921\u001b[0m         columns,\n\u001b[0;32m   1922\u001b[0m         col_dict,\n\u001b[1;32m-> 1923\u001b[0m     ) \u001b[38;5;241m=\u001b[39m \u001b[38;5;28mself\u001b[39m\u001b[38;5;241m.\u001b[39m_engine\u001b[38;5;241m.\u001b[39mread(  \u001b[38;5;66;03m# type: ignore[attr-defined]\u001b[39;00m\n\u001b[0;32m   1924\u001b[0m         nrows\n\u001b[0;32m   1925\u001b[0m     )\n\u001b[0;32m   1926\u001b[0m \u001b[38;5;28;01mexcept\u001b[39;00m \u001b[38;5;167;01mException\u001b[39;00m:\n\u001b[0;32m   1927\u001b[0m     \u001b[38;5;28mself\u001b[39m\u001b[38;5;241m.\u001b[39mclose()\n",
      "File \u001b[1;32mc:\\Users\\vince\\anaconda3\\envs\\First\\Lib\\site-packages\\pandas\\io\\parsers\\c_parser_wrapper.py:234\u001b[0m, in \u001b[0;36mCParserWrapper.read\u001b[1;34m(self, nrows)\u001b[0m\n\u001b[0;32m    232\u001b[0m \u001b[38;5;28;01mtry\u001b[39;00m:\n\u001b[0;32m    233\u001b[0m     \u001b[38;5;28;01mif\u001b[39;00m \u001b[38;5;28mself\u001b[39m\u001b[38;5;241m.\u001b[39mlow_memory:\n\u001b[1;32m--> 234\u001b[0m         chunks \u001b[38;5;241m=\u001b[39m \u001b[38;5;28mself\u001b[39m\u001b[38;5;241m.\u001b[39m_reader\u001b[38;5;241m.\u001b[39mread_low_memory(nrows)\n\u001b[0;32m    235\u001b[0m         \u001b[38;5;66;03m# destructive to chunks\u001b[39;00m\n\u001b[0;32m    236\u001b[0m         data \u001b[38;5;241m=\u001b[39m _concatenate_chunks(chunks)\n",
      "File \u001b[1;32mparsers.pyx:838\u001b[0m, in \u001b[0;36mpandas._libs.parsers.TextReader.read_low_memory\u001b[1;34m()\u001b[0m\n",
      "File \u001b[1;32mparsers.pyx:905\u001b[0m, in \u001b[0;36mpandas._libs.parsers.TextReader._read_rows\u001b[1;34m()\u001b[0m\n",
      "File \u001b[1;32mparsers.pyx:874\u001b[0m, in \u001b[0;36mpandas._libs.parsers.TextReader._tokenize_rows\u001b[1;34m()\u001b[0m\n",
      "File \u001b[1;32mparsers.pyx:891\u001b[0m, in \u001b[0;36mpandas._libs.parsers.TextReader._check_tokenize_status\u001b[1;34m()\u001b[0m\n",
      "File \u001b[1;32mparsers.pyx:2061\u001b[0m, in \u001b[0;36mpandas._libs.parsers.raise_parser_error\u001b[1;34m()\u001b[0m\n",
      "\u001b[1;31mParserError\u001b[0m: Error tokenizing data. C error: Calling read(nbytes) on source failed. Try engine='python'."
     ]
    }
   ],
   "source": [
    "\n",
    "from sklearn.discriminant_analysis import LinearDiscriminantAnalysis\n",
    "from sklearn.feature_extraction.text import CountVectorizer\n",
    "from sklearn.linear_model import LogisticRegression\n",
    "from sklearn.model_selection import train_test_split\n",
    "from sklearn.neighbors import KNeighborsClassifier\n",
    "from joblib import load, dump\n",
    "import re\n",
    "from sklearn.metrics import *\n",
    "import pandas as pd\n",
    "import collections, numpy\n",
    "from sklearn.metrics import f1_score\n",
    "\n",
    "df = pd.read_csv('Data/otherdata/CleanedCombined.csv')\n",
    "X = df['content'] + df['title']\n",
    "Y = df[\"type\"].dropna()\n",
    "\n",
    "\n",
    "# Split the data into one training set and one combined test set\n",
    "X_train, X_combined_test, y_train, y_combined_test = train_test_split(X, Y, test_size=0.2, random_state=32)\n",
    "\n",
    "# Split the combined test set into two separate test sets\n",
    "X_test1, X_test2, y_test1, y_test2 = train_test_split(X_combined_test, y_combined_test, test_size=0.5, random_state=32 )\n",
    "\n",
    "loaded_model = load('basemodelBBCnew.joblib')\n",
    "vectorizer = load('basemodelBBCVec.joblib')\n",
    "\n",
    "predictions = loaded_model.predict(vectorizer.transform(X_test2))\n",
    "\n",
    "print(\"BASE MODEL NEW DATA with title and BBC data\")\n",
    "# Print the predictions\n",
    "f1score = f1_score(y_test2, predictions, pos_label=\"fake\", average='binary')\n",
    "test_accuracy = accuracy_score(y_test2, predictions)\n",
    "print(f'Accuracy (F1score){f1score}')\n",
    "print(f'Accuracy (Not f1score){test_accuracy}')\n",
    "clas = classification_report(y_test2, predictions)\n",
    "print(clas)\n",
    "\n"
   ]
  },
  {
   "cell_type": "markdown",
   "metadata": {},
   "source": [
    "Now we will test the simple models performance on the LIAR DATASET. Firstly we have to clean the dataset."
   ]
  },
  {
   "cell_type": "code",
   "execution_count": 104,
   "metadata": {},
   "outputs": [],
   "source": [
    "import pandas as pd\n",
    "\n",
    "df = pd.read_csv('Data/liardata/train.tsv', header=None, delimiter='\\t')\n",
    "\n",
    "# Define a function to map types to categories\n",
    "def map_type(Thetype):\n",
    "    if str(Thetype) in ['false', 'pants-fire', 'barely-true']:\n",
    "        return 'fake'\n",
    "    if str(Thetype) in ['mostly-true', 'true']:\n",
    "        return 'real'\n",
    "    else:\n",
    "        return None  # Return None for types that don't match the conditions\n",
    "\n",
    "df[1] = df[1].apply(map_type)\n",
    "\n",
    "newting = df.drop(df[df[1].isnull()].index)\n",
    "\n",
    "# Save the modified DataFrame to a new TSV file\n",
    "newting.to_csv('Data/liardata/FinalTest.tsv', sep='\\t', index=False, header=False)\n"
   ]
  },
  {
   "cell_type": "markdown",
   "metadata": {},
   "source": [
    "Now we can test simple model on the liar dataset:"
   ]
  },
  {
   "cell_type": "code",
   "execution_count": 105,
   "metadata": {},
   "outputs": [
    {
     "name": "stdout",
     "output_type": "stream",
     "text": [
      "Accuracy (F1score)0.0\n",
      "Accuracy (Not f1score)0.4476987447698745\n"
     ]
    },
    {
     "data": {
      "image/png": "[encoded data removed]",
      "text/plain": [
       "<Figure size 800x600 with 2 Axes>"
      ]
     },
     "metadata": {},
     "output_type": "display_data"
    }
   ],
   "source": [
    "from sklearn.linear_model import LogisticRegression\n",
    "from sklearn.model_selection import train_test_split\n",
    "from joblib import load, dump\n",
    "from sklearn.metrics import accuracy_score\n",
    "import pandas as pd\n",
    "import seaborn as sns\n",
    "import collections, numpy\n",
    "from sklearn.metrics import f1_score\n",
    "from sklearn.metrics import confusion_matrix\n",
    "import matplotlib.pyplot as plt\n",
    "\n",
    "\n",
    "df = pd.read_csv('Data/liardata/FinalTest.tsv', sep='\\t' , header=None)\n",
    "\n",
    "def count_words(text):\n",
    "    words = text.split()\n",
    "    return len(words)\n",
    "\n",
    "#Load data from tsv test file\n",
    "content = df.iloc[:, 2].apply(count_words)\n",
    "Realawnser = df.iloc[:, 1]\n",
    "\n",
    "loaded_model = load('basemodel.joblib')\n",
    "#Transform content\n",
    "predictions = loaded_model.predict(content.values.reshape(-1, 1))\n",
    "# Print the predictions\n",
    "f1score = f1_score(Realawnser, predictions, pos_label=\"fake\", average='binary')\n",
    "test_accuracy = accuracy_score(Realawnser, predictions)\n",
    "print(f'Accuracy (F1score){f1score}')\n",
    "print(f'Accuracy (Not f1score){test_accuracy}')\n",
    "\n",
    "cm = confusion_matrix(Realawnser,predictions)\n",
    "plt.figure(figsize=(8, 6))\n",
    "sns.heatmap(cm, annot=True, fmt=\"d\", cmap=\"Blues\")\n",
    "plt.xlabel('Predicted labels')\n",
    "plt.ylabel('True labels')\n",
    "plt.title('Confusion Matrix Simple Model')\n",
    "plt.show()\n",
    "\n",
    "\n",
    "\n"
   ]
  },
  {
   "cell_type": "markdown",
   "metadata": {},
   "source": [
    "Now we can test the simple model with the 50 words."
   ]
  },
  {
   "cell_type": "code",
   "execution_count": 110,
   "metadata": {},
   "outputs": [
    {
     "name": "stdout",
     "output_type": "stream",
     "text": [
      "BASE MODEL NEW DATA with title and BBC data\n",
      "Accuracy (F1score)0.6971663244353182\n",
      "Accuracy (Not f1score)0.5462712281565346\n",
      "              precision    recall  f1-score   support\n",
      "\n",
      "        fake       0.55      0.95      0.70      4488\n",
      "        real       0.44      0.05      0.10      3638\n",
      "\n",
      "    accuracy                           0.55      8126\n",
      "   macro avg       0.50      0.50      0.40      8126\n",
      "weighted avg       0.50      0.55      0.43      8126\n",
      "\n"
     ]
    },
    {
     "data": {
      "image/png": "[encoded data removed]",
      "text/plain": [
       "<Figure size 800x600 with 2 Axes>"
      ]
     },
     "metadata": {},
     "output_type": "display_data"
    }
   ],
   "source": [
    "from sklearn.linear_model import LogisticRegression\n",
    "from sklearn.model_selection import train_test_split\n",
    "from joblib import load, dump\n",
    "from sklearn.metrics import accuracy_score\n",
    "import pandas as pd\n",
    "import seaborn as sns\n",
    "import collections, numpy\n",
    "from sklearn.metrics import f1_score\n",
    "from sklearn.metrics import confusion_matrix\n",
    "import matplotlib.pyplot as plt\n",
    "\n",
    "\n",
    "df = pd.read_csv('Data/liardata/FinalTest.tsv', sep='\\t' , header=None)\n",
    "\n",
    "\n",
    "#Load data from tsv test file\n",
    "content = df.iloc[:, 2]\n",
    "Realawnser = df.iloc[:, 1]\n",
    "\n",
    "loaded_model = load('basemodelBBCnew.joblib')\n",
    "\n",
    "big_difference_tokens = []\n",
    "\n",
    "file_path = 'Data/otherdata/big_difference_tokens.txt'\n",
    "# Open the file in read mode\n",
    "with open(file_path, 'r') as file:\n",
    "    # Read each line from the file\n",
    "    for line in file:\n",
    "        # Append the line to the list, removing leading/trailing whitespace if needed\n",
    "        big_difference_tokens.append(line.strip())\n",
    "\n",
    "predictions = loaded_model.predict(vectorizer.fit_transform(content))\n",
    "print(\"BASE MODEL NEW DATA with title and BBC data\")\n",
    "# Print the predictions\n",
    "f1score = f1_score(Realawnser, predictions, pos_label=\"fake\", average='binary')\n",
    "test_accuracy = accuracy_score(Realawnser, predictions)\n",
    "print(f'Accuracy (F1score){f1score}')\n",
    "print(f'Accuracy (Not f1score){test_accuracy}')\n",
    "clas = classification_report(Realawnser, predictions)\n",
    "print(clas)\n",
    "\n",
    "\n",
    "cm = confusion_matrix(Realawnser,predictions)\n",
    "plt.figure(figsize=(8, 6))\n",
    "sns.heatmap(cm, annot=True, fmt=\"d\", cmap=\"Blues\")\n",
    "plt.xlabel('Predicted labels')\n",
    "plt.ylabel('True labels')\n",
    "plt.title('Confusion Matrix Simple Model with 50 words')\n",
    "plt.show()\n",
    "\n",
    "\n",
    "\n"
   ]
  },
  {
   "cell_type": "markdown",
   "metadata": {},
   "source": [
    "To replicate advanced model performance, we will start with doing another preprocessing process.\n",
    "\n",
    "Because of the size of data, we chop our preprocessing up in modular pieces, so it is easier to work with.\n",
    "We load the unprocessed data file, and get a new csv file, with cleaned data. This means, lowercasing, tagging of URL's, E-mails, dates, numbers, and extra white space."
   ]
  },
  {
   "cell_type": "code",
   "execution_count": null,
   "metadata": {},
   "outputs": [],
   "source": [
    "import re\n",
    "import pandas as pd \n",
    "\n",
    "def remove_whitespace(text):\n",
    "    text = re.sub(r\"\\n{2,}\", \"\\n\", text)\n",
    "    text = re.sub(r\"\\t{2,}\", \"\\t\", text)\n",
    "    text = re.sub(r\"\\r{2,}\", \"\\r\", text)\n",
    "    text = re.sub(r\"\\f{2,}\", \"\\f\", text)\n",
    "    text = re.sub(r\"\\v{2,}\", \"\\v\", text)\n",
    "    text = re.sub(r\" {2,}\" , \" \", text)\n",
    "    return text\n",
    "\n",
    "def clean_text(filename, mode):\n",
    "    df = pd.read_csv(filename)\n",
    "    valid_only = df[\"content\"].dropna()\n",
    "    print(\"DROPPING NONE DONE YAY\")\n",
    "    valid_only = valid_only.apply( lambda x : x.lower() )\n",
    "\n",
    "    print(\"LOWERCASING DONE YAY\")\n",
    "\n",
    "    urlpattern = r\"\\b(https?://[\\w\\.\\-]*\\w+|www\\d*)\\.\\w+[/\\w\\-\\.\\?=%#]+\"\n",
    "    valid_only.replace(regex={urlpattern: \"<URL>\"}, inplace = True)\n",
    "    print(\"REPLACING URLs DONE YAY\")\n",
    "    emailpattern = r\"\\b[\\w\\-\\.]+@[\\w\\-\\.]+\"\n",
    "    valid_only.replace(regex={emailpattern: \"<EMAIL>\"}, inplace = True)\n",
    "    print(\"REPLACING EMAILS DONE YAY\")\n",
    "\n",
    "    datepattern = r\"\\b(\\d{4})-?(0[1-9]|1[0-2])-?(0[1-9]|[12][0-9]|3[01])\\b\"\n",
    "    valid_only.replace(regex={datepattern: \"<DATE>\"}, inplace = True)\n",
    "    print(\"REPLACING DATEs DONE YAY\")\n",
    "\n",
    "    numpattern = r\"\\$?\\+?\\d+(st?|nd?|rd?|th?)?\"\n",
    "    valid_only.replace(regex={numpattern: \"<NUM>\"}, inplace = True)\n",
    "    print(\"REPLACING NUMs DONE YAY\")\n",
    "\n",
    "    valid_only = valid_only.apply(remove_whitespace)\n",
    "    print(\"REMOVING WHITESPACE DONE YAY\")\n",
    "    \n",
    "    \n",
    "    if mode == \"return_content_only\":\n",
    "        return valid_only\n",
    "    elif mode == \"to_csv_content_only\":\n",
    "        valid_only.to_csv('../data/HALLAEOW.csv', index=False)  \n",
    "    elif mode == \"return_all_rows\":\n",
    "        df[\"content\"] = valid_only\n",
    "        return df\n",
    "    elif mode == \"to_csv_all_rows\":\n",
    "        df[\"content\"] = valid_only\n",
    "        df.to_csv('Data/for_advanced_model/CLEANED.csv', index=False)  \n",
    "\n",
    "filename = \"Data/bigdata/big.csv\"\n",
    "clean_text(filename, mode=\"to_csv_all_rows\")"
   ]
  },
  {
   "cell_type": "markdown",
   "metadata": {},
   "source": [
    "Now we have generated a new csv file with cleaned content. We can now load this new csv, to make a new csv file with binary classification.\n",
    "We refer to later explanation of the categorization."
   ]
  },
  {
   "cell_type": "code",
   "execution_count": null,
   "metadata": {},
   "outputs": [],
   "source": [
    "\n",
    "def make_binary(filename):\n",
    "    df = pd.read_csv(filename)\n",
    "    \n",
    "    fake_types = [\"fake\", \"bias\", \"conspiracy\", \"junksci\", \"hate\", \"satire\"]\n",
    "    real_types = [\"reliable\", \"clickbait\", \"political\"]\n",
    "    \n",
    "    df_filtered = df[df[\"type\"].isin(fake_types + real_types)]\n",
    "    print(\"FILTERING DONE\")\n",
    "    df_filtered.loc[df_filtered[\"type\"].isin(fake_types), \"type\"] = \"fake\"\n",
    "    print(\"FAKE\")\n",
    "    df_filtered.loc[df_filtered[\"type\"].isin(real_types), \"type\"] = \"real\"\n",
    "    print(\"REAL\")\n",
    "\n",
    "    df_filtered.to_csv('Data/for_advanced_model/CLEANED_BINARY.csv', index=False)\n",
    "    \n",
    "    print(len(df_filtered))\n",
    "    \n",
    "make_binary(\"Data/for_advanced_model/CLEANED.csv\")\n",
    "\n"
   ]
  },
  {
   "cell_type": "markdown",
   "metadata": {},
   "source": [
    "We now have a new csv file, where our data is cleaned and with only 2 types.\n",
    "\n",
    "Because we test on data with both with and without stemming and removal of stopwords, we need to make a new csv file, where the content is stemmed and stop words removed. We make use of some helper functions, so let us list them first!\n"
   ]
  },
  {
   "cell_type": "code",
   "execution_count": null,
   "metadata": {},
   "outputs": [],
   "source": [
    "from nltk.corpus import stopwords\n",
    "from nltk.stem import SnowballStemmer\n",
    "\n",
    "stop_words = set(stopwords.words('english'))\n",
    "stemmer = SnowballStemmer(\"english\")\n",
    "\n",
    "def stem_and_stop_words(match):\n",
    "    word = match.group(0)\n",
    "    if word.lower() in stop_words:\n",
    "        return \"\"  # Return empty string for stop words\n",
    "    else:\n",
    "        return stemmer.stem(word)  # Stem non-stopwords\n",
    "\n",
    "# Example usage:\n",
    "def justapplyonseries(text):\n",
    "    text = re.sub(r'\\b\\w+\\b', stem_and_stop_words, text)\n",
    "    text = re.sub(r'\\s+', \" \", text)  # Replace consecutive spaces with a single space\n",
    "    return text\n"
   ]
  },
  {
   "cell_type": "markdown",
   "metadata": {},
   "source": [
    "Now, we can run our script!"
   ]
  },
  {
   "cell_type": "code",
   "execution_count": null,
   "metadata": {},
   "outputs": [],
   "source": [
    "# filename = \"../data/all_rows_sample_250_news.csv\"\n",
    "filename = \"Data/for_advanced_model/CLEANED_BINARY.csv\"\n",
    "\n",
    "df = pd.read_csv(filename)\n",
    "\n",
    "df.dropna(subset=['content'], inplace=True)\n",
    "\n",
    "df.dropna(subset=['type'], inplace=True)\n",
    "\n",
    "df[\"content\"] = df[\"content\"].apply(lambda x: justapplyonseries(x))\n",
    "\n",
    "df.to_csv('Data/for_advanced_model/CLEANED_BINARY_STEM_AND_STOPWORDS.csv', index=False)  \n"
   ]
  },
  {
   "cell_type": "markdown",
   "metadata": {},
   "source": [
    "Now that we have a preproccesed dataset we can now start building our advanced model."
   ]
  },
  {
   "cell_type": "markdown",
   "metadata": {},
   "source": [
    "We load the csv file, drop bad values, and load them into variables X and Y"
   ]
  },
  {
   "cell_type": "code",
   "execution_count": null,
   "metadata": {},
   "outputs": [],
   "source": [
    "\n",
    "filename = 'Data/for_advanced_model/CLEANED_BINARY.csv'\n",
    "df = pd.read_csv(filename)\n",
    "print(\"halla\")\n",
    "\n",
    "df.dropna(subset=['content'], inplace=True)\n",
    "print(\"abow\")\n",
    "\n",
    "df.dropna(subset=['type'], inplace=True)\n",
    "print(\"wiii\")\n",
    "\n",
    "X = df[\"content\"]\n",
    "print(\"X\")\n",
    "Y = df[\"type\"]\n",
    "print(\"Y\")\n",
    "\n"
   ]
  },
  {
   "cell_type": "markdown",
   "metadata": {},
   "source": [
    "We split the data into training and data. "
   ]
  },
  {
   "cell_type": "code",
   "execution_count": null,
   "metadata": {},
   "outputs": [],
   "source": [
    "from sklearn.model_selection import train_test_split\n",
    "\n",
    "seed = 39 # for reproducability                                       \n",
    "\n",
    "X_train, X_temp, Y_train, Y_temp = train_test_split(X, Y, test_size=0.2, random_state=seed)\n",
    "print(\"TRAINING SPLIT DONE\")\n",
    "\n",
    "\n",
    "X_validation, X_test, Y_validation, Y_test = train_test_split(X_temp, Y_temp, test_size=0.5, random_state=seed)\n",
    "print(\"TEST AND VALIDATION SPLIT DONE\")\n"
   ]
  },
  {
   "cell_type": "markdown",
   "metadata": {},
   "source": [
    "We make TF-IDF row with X_train and transform X_validation and X_test."
   ]
  },
  {
   "cell_type": "code",
   "execution_count": null,
   "metadata": {},
   "outputs": [],
   "source": [
    "from sklearn.feature_extraction.text import TfidfVectorizer\n",
    "\n",
    "vectorizer = TfidfVectorizer(ngram_range=(1,2))\n",
    "\n",
    "X_train = vectorizer.fit_transform(X_train)\n",
    "print(\"TFIDF ROW LEARNED MADE\")\n",
    "\n",
    "X_validation = vectorizer.transform(X_validation)\n",
    "print(\"TFIDF DONE FOR X_VALIDATION\")\n",
    "\n",
    "X_test = vectorizer.transform(X_test)\n",
    "print(\"TFIDF DONE FOR X_TEST\")\n"
   ]
  },
  {
   "cell_type": "markdown",
   "metadata": {},
   "source": [
    "we instantiate model, and fit X_train on Y_train"
   ]
  },
  {
   "cell_type": "code",
   "execution_count": null,
   "metadata": {},
   "outputs": [],
   "source": [
    "from sklearn.linear_model import LogisticRegression\n",
    "\n",
    "\n",
    "model = LogisticRegression(solver=\"saga\", multi_class=\"ovr\", C=100, n_jobs=-1, penalty=\"l2\", class_weight=\"balanced\", max_iter=10000)\n",
    "\n",
    "\n",
    "model.fit(X_train, Y_train)\n",
    "print(\"MODEL TRAINED\")\n"
   ]
  },
  {
   "cell_type": "markdown",
   "metadata": {},
   "source": [
    "we make predictions, and get a report of metrics."
   ]
  },
  {
   "cell_type": "code",
   "execution_count": null,
   "metadata": {},
   "outputs": [],
   "source": [
    "from sklearn.metrics import *\n",
    "Y_train_pred = model.predict(X_train)\n",
    "\n",
    "print(f'Training accuracy: {accuracy_score(Y_train, Y_train_pred)}')\n",
    "\n",
    "print(\"FOR TEST\\n\\n\")\n",
    "Y_test_pred = model.predict(X_test)\n",
    "report_test = classification_report(Y_test, Y_test_pred)\n",
    "print(report_test)\n",
    "\n",
    "hyperparameters = model.get_params()\n",
    "print(hyperparameters)"
   ]
  },
  {
   "cell_type": "markdown",
   "metadata": {},
   "source": [
    "We dump model to store them"
   ]
  },
  {
   "cell_type": "code",
   "execution_count": null,
   "metadata": {},
   "outputs": [],
   "source": [
    "import joblib\n",
    "joblib.dump(model, f'Data/for_advanced_model/dumps/without_stem_and_stop_word_removal/{seed}MODEL.joblib')\n",
    "joblib.dump(X_train, f\"Data/for_advanced_model/dumps/without_stem_and_stop_word_removal/{seed}x_train.joblib\")\n",
    "joblib.dump(X_validation, f\"Data/for_advanced_model/dumps/without_stem_and_stop_word_removal/{seed}x_validation.joblib\")\n",
    "joblib.dump(Y_train, f\"Data/for_advanced_model/dumps/without_stem_and_stop_word_removal/{seed}y_train.joblib\")\n",
    "joblib.dump(Y_validation, f\"Data/for_advanced_model/dumps/without_stem_and_stop_word_removal/{seed}y_validation.joblib\")\n",
    "joblib.dump(X_test, f\"Data/for_advanced_model/dumps/without_stem_and_stop_word_removal/{seed}x_test.joblib\")\n",
    "joblib.dump(Y_test, f\"Data/for_advanced_model/dumps/without_stem_and_stop_word_removal/{seed}y_test.joblib\")\n",
    "joblib.dump(vectorizer, f\"Data/for_advanced_model/dumps/without_stem_and_stop_word_removal/{seed}vectorizer.joblib\")"
   ]
  },
  {
   "cell_type": "markdown",
   "metadata": {},
   "source": [
    "We want to add meta-data to the model, so we will be traning a new model with the title meta-data, the resoning is shown in the report."
   ]
  },
  {
   "cell_type": "markdown",
   "metadata": {},
   "source": [
    "We do exactly the same with stemmed and removal of stop words. "
   ]
  },
  {
   "cell_type": "code",
   "execution_count": null,
   "metadata": {},
   "outputs": [],
   "source": [
    "\n",
    "filename = 'Data/for_advanced_model/CLEANED_BINARY_STEM_AND_STOPWORDS.csv'\n",
    "df = pd.read_csv(filename)\n",
    "print(\"halla\")\n",
    "\n",
    "df.dropna(subset=['content'], inplace=True)\n",
    "print(\"abow\")\n",
    "\n",
    "df.dropna(subset=['type'], inplace=True)\n",
    "print(\"wiii\")\n",
    "\n",
    "X = df[\"content\"]\n",
    "print(\"X\")\n",
    "Y = df[\"type\"]\n",
    "print(\"Y\")\n",
    "\n",
    "\n",
    "from sklearn.model_selection import train_test_split\n",
    "\n",
    "seed = 39 # for reproducability                                       \n",
    "\n",
    "X_train, X_temp, Y_train, Y_temp = train_test_split(X, Y, test_size=0.2, random_state=seed)\n",
    "print(\"TRAINING SPLIT DONE\")\n",
    "\n",
    "\n",
    "X_validation, X_test, Y_validation, Y_test = train_test_split(X_temp, Y_temp, test_size=0.5, random_state=seed)\n",
    "print(\"TEST AND VALIDATION SPLIT DONE\")\n",
    "\n",
    "from sklearn.feature_extraction.text import TfidfVectorizer\n",
    "\n",
    "vectorizer = TfidfVectorizer(ngram_range=(1,2))\n",
    "\n",
    "X_train = vectorizer.fit_transform(X_train)\n",
    "print(\"TFIDF ROW LEARNED MADE\")\n",
    "\n",
    "X_validation = vectorizer.transform(X_validation)\n",
    "print(\"TFIDF DONE FOR X_VALIDATION\")\n",
    "\n",
    "X_test = vectorizer.transform(X_test)\n",
    "print(\"TFIDF DONE FOR X_TEST\")\n",
    "\n",
    "from sklearn.linear_model import LogisticRegression\n",
    "\n",
    "\n",
    "model = LogisticRegression(solver=\"saga\", multi_class=\"ovr\", C=100, n_jobs=-1, penalty=\"l2\", class_weight=\"balanced\", max_iter=10000)\n",
    "\n",
    "\n",
    "model.fit(X_train, Y_train)\n",
    "print(\"MODEL TRAINED\")\n",
    "\n",
    "Y_train_pred = model.predict(X_train)\n",
    "\n",
    "print(f'Training accuracy: {accuracy_score(Y_train, Y_train_pred)}')\n",
    "\n",
    "print(\"FOR TEST\\n\\n\")\n",
    "Y_test_pred = model.predict(X_test)\n",
    "report_test = classification_report(Y_test, Y_test_pred)\n",
    "print(report_test)\n",
    "\n",
    "hyperparameters = model.get_params()\n",
    "print(hyperparameters)\n",
    "\n",
    "import joblib\n",
    "joblib.dump(model, f'Data/for_advanced_model/dumps/with_stem_and_stop_word_removal/{seed}MODEL.joblib')\n",
    "joblib.dump(X_train, f\"Data/for_advanced_model/dumps/with_stem_and_stop_word_removal/{seed}x_train.joblib\")\n",
    "joblib.dump(X_validation, f\"Data/for_advanced_model/dumps/with_stem_and_stop_word_removal/{seed}x_validation.joblib\")\n",
    "joblib.dump(Y_train, f\"Data/for_advanced_model/dumps/with_stem_and_stop_word_removal/{seed}y_train.joblib\")\n",
    "joblib.dump(Y_validation, f\"Data/for_advanced_model/dumps/with_stem_and_stop_word_removal/{seed}y_validation.joblib\")\n",
    "joblib.dump(X_test, f\"Data/for_advanced_model/dumps/with_stem_and_stop_word_removal/{seed}x_test.joblib\")\n",
    "joblib.dump(Y_test, f\"Data/for_advanced_model/dumps/with_stem_and_stop_word_removal/{seed}y_test.joblib\")\n",
    "joblib.dump(vectorizer, f\"Data/for_advanced_model/dumps/with_stem_and_stop_word_removal/{seed}vectorizer.joblib\")\n"
   ]
  },
  {
   "cell_type": "markdown",
   "metadata": {},
   "source": [
    "We also want to quickly see performance with title included. For this, we clean title in CLEANED_BINARY first. We make a little modification to the preprocessing function, like this:"
   ]
  },
  {
   "cell_type": "code",
   "execution_count": null,
   "metadata": {},
   "outputs": [],
   "source": [
    "def clean_text_title(filename, mode):\n",
    "    df = pd.read_csv(filename)\n",
    "    valid_only = df[\"title\"].dropna()\n",
    "    print(\"DROPPING NONE DONE YAY\")\n",
    "    valid_only = valid_only.apply( lambda x : x.lower() )\n",
    "\n",
    "    print(valid_only[0])\n",
    "    print(\"LOWERCASING DONE YAY\")\n",
    "\n",
    "    urlpattern = r\"\\b(https?://[\\w\\.\\-]*\\w+|www\\d*)\\.\\w+[/\\w\\-\\.\\?=%#]+\"\n",
    "    valid_only.replace(regex={urlpattern: \"<URL>\"}, inplace = True)\n",
    "    print(\"REPLACING URLs DONE YAY\")\n",
    "    emailpattern = r\"\\b[\\w\\-\\.]+@[\\w\\-\\.]+\"\n",
    "    valid_only.replace(regex={emailpattern: \"<EMAIL>\"}, inplace = True)\n",
    "    print(\"REPLACING EMAILS DONE YAY\")\n",
    "\n",
    "    datepattern = r\"\\b(\\d{4})-?(0[1-9]|1[0-2])-?(0[1-9]|[12][0-9]|3[01])\\b\"\n",
    "    valid_only.replace(regex={datepattern: \"<DATE>\"}, inplace = True)\n",
    "    print(\"REPLACING DATEs DONE YAY\")\n",
    "\n",
    "    numpattern = r\"\\$?\\+?\\d+(st?|nd?|rd?|th?)?\"\n",
    "    valid_only.replace(regex={numpattern: \"<NUM>\"}, inplace = True)\n",
    "    print(\"REPLACING NUMs DONE YAY\")\n",
    "\n",
    "    valid_only = valid_only.apply(remove_whitespace)\n",
    "    print(\"REMOVING WHITESPACE DONE YAY\")\n",
    "    \n",
    "    \n",
    "    if mode == \"return\":\n",
    "        return valid_only\n",
    "    elif mode == \"to_csv\":\n",
    "        valid_only.to_csv('../data/HALLAEOW.csv', index=False)  \n",
    "    elif mode == \"return_all_rows\":\n",
    "        df[\"content\"] = valid_only\n",
    "        return df\n",
    "    elif mode == \"all_rows_to_csv\":\n",
    "        df[\"title\"] = valid_only\n",
    "        df.to_csv('Data/for_advanced_model/CLEANED_BINARY_TITLE.csv', index=False)  "
   ]
  },
  {
   "cell_type": "markdown",
   "metadata": {},
   "source": [
    "We call this function to make a new csv file with title cleaned also."
   ]
  },
  {
   "cell_type": "code",
   "execution_count": null,
   "metadata": {},
   "outputs": [],
   "source": [
    "filename = \"Data/for_advanced_model/CLEANED_BINARY.csv\"\n",
    "clean_text_title(filename, mode=\"all_rows_to_csv\")"
   ]
  },
  {
   "cell_type": "markdown",
   "metadata": {},
   "source": [
    "we now train a model and get performance as well as dumping it for now with title without stemming and stop word removal."
   ]
  },
  {
   "cell_type": "code",
   "execution_count": null,
   "metadata": {},
   "outputs": [],
   "source": [
    "\n",
    "filename = 'Data/for_advanced_model/CLEANED_BINARY_TITLE.csv'\n",
    "df = pd.read_csv(filename)\n",
    "print(\"halla\")\n",
    "\n",
    "df.dropna(subset=['content'], inplace=True)\n",
    "print(\"abow\")\n",
    "\n",
    "df.dropna(subset=['type'], inplace=True)\n",
    "print(\"wiii\")\n",
    "\n",
    "df.dropna(subset=['title'], inplace=True)\n",
    "\n",
    "X = df[\"content\"] + df[\"title\"]\n",
    "print(\"X\")\n",
    "Y = df[\"type\"]\n",
    "print(\"Y\")\n",
    "\n",
    "\n",
    "from sklearn.model_selection import train_test_split\n",
    "\n",
    "seed = 39 # for reproducability                                       \n",
    "\n",
    "X_train, X_temp, Y_train, Y_temp = train_test_split(X, Y, test_size=0.2, random_state=seed)\n",
    "print(\"TRAINING SPLIT DONE\")\n",
    "\n",
    "\n",
    "X_validation, X_test, Y_validation, Y_test = train_test_split(X_temp, Y_temp, test_size=0.5, random_state=seed)\n",
    "print(\"TEST AND VALIDATION SPLIT DONE\")\n",
    "\n",
    "from sklearn.feature_extraction.text import TfidfVectorizer\n",
    "\n",
    "vectorizer = TfidfVectorizer(ngram_range=(1,2))\n",
    "\n",
    "X_train = vectorizer.fit_transform(X_train)\n",
    "print(\"TFIDF ROW LEARNED MADE\")\n",
    "\n",
    "X_validation = vectorizer.transform(X_validation)\n",
    "print(\"TFIDF DONE FOR X_VALIDATION\")\n",
    "\n",
    "X_test = vectorizer.transform(X_test)\n",
    "print(\"TFIDF DONE FOR X_TEST\")\n",
    "\n",
    "from sklearn.linear_model import LogisticRegression\n",
    "\n",
    "\n",
    "model = LogisticRegression(solver=\"saga\", multi_class=\"ovr\", C=100, n_jobs=-1, penalty=\"l2\", class_weight=\"balanced\", max_iter=10000)\n",
    "\n",
    "\n",
    "model.fit(X_train, Y_train)\n",
    "print(\"MODEL TRAINED\")\n",
    "\n",
    "from sklearn.metrics import *\n",
    "Y_train_pred = model.predict(X_train)\n",
    "\n",
    "print(f'Training accuracy: {accuracy_score(Y_train, Y_train_pred)}')\n",
    "\n",
    "print(\"FOR TEST\\n\\n\")\n",
    "Y_test_pred = model.predict(X_test)\n",
    "report_test = classification_report(Y_test, Y_test_pred)\n",
    "print(report_test)\n",
    "\n",
    "hyperparameters = model.get_params()\n",
    "print(hyperparameters)\n",
    "\n",
    "import joblib\n",
    "joblib.dump(model, f'Data/for_advanced_model/dumps/plus_title_without_stem_and_stop_word_removal/{seed}MODEL.joblib')\n",
    "joblib.dump(X_train, f\"Data/for_advanced_model/dumps/plus_title_without_stem_and_stop_word_removal/{seed}x_train.joblib\")\n",
    "joblib.dump(X_validation, f\"Data/for_advanced_model/dumps/plus_title_without_stem_and_stop_word_removal/{seed}x_validation.joblib\")\n",
    "joblib.dump(Y_train, f\"Data/for_advanced_model/dumps/plus_title_without_stem_and_stop_word_removal/{seed}y_train.joblib\")\n",
    "joblib.dump(Y_validation, f\"Data/for_advanced_model/dumps/plus_title_without_stem_and_stop_word_removal/{seed}y_validation.joblib\")\n",
    "joblib.dump(X_test, f\"Data/for_advanced_model/dumps/plus_title_without_stem_and_stop_word_removal/{seed}x_test.joblib\")\n",
    "joblib.dump(Y_test, f\"Data/for_advanced_model/dumps/plus_title_without_stem_and_stop_word_removal/{seed}y_test.joblib\")\n",
    "joblib.dump(vectorizer, f\"Data/for_advanced_model/dumps/plus_title_without_stem_and_stop_word_removal/{seed}vectorizer.joblib\")\n"
   ]
  },
  {
   "cell_type": "markdown",
   "metadata": {},
   "source": [
    "we have now dumped all models. Let us evaluate them on LIAR. we preprocess LIAR. We alter preprocess function abit again"
   ]
  },
  {
   "cell_type": "code",
   "execution_count": null,
   "metadata": {},
   "outputs": [],
   "source": [
    "def clean_liar(filename, mode):\n",
    "    df = pd.read_csv(filename, header=None, delimiter='\\t')\n",
    "    valid_only = df.iloc[:, 2].dropna()\n",
    "    print(\"DROPPING NONE DONE YAY\")\n",
    "    valid_only = valid_only.apply( lambda x : x.lower() )\n",
    "\n",
    "    print(valid_only[0])\n",
    "    print(\"LOWERCASING DONE YAY\")\n",
    "\n",
    "    urlpattern = r\"\\b(https?://[\\w\\.\\-]*\\w+|www\\d*)\\.\\w+[/\\w\\-\\.\\?=%#]+\"\n",
    "    valid_only.replace(regex={urlpattern: \"<URL>\"}, inplace = True)\n",
    "    print(\"REPLACING URLs DONE YAY\")\n",
    "    emailpattern = r\"\\b[\\w\\-\\.]+@[\\w\\-\\.]+\"\n",
    "    valid_only.replace(regex={emailpattern: \"<EMAIL>\"}, inplace = True)\n",
    "    print(\"REPLACING EMAILS DONE YAY\")\n",
    "\n",
    "    datepattern = r\"\\b(\\d{4})-?(0[1-9]|1[0-2])-?(0[1-9]|[12][0-9]|3[01])\\b\"\n",
    "    valid_only.replace(regex={datepattern: \"<DATE>\"}, inplace = True)\n",
    "    print(\"REPLACING DATEs DONE YAY\")\n",
    "\n",
    "    numpattern = r\"\\$?\\+?\\d+(st?|nd?|rd?|th?)?\"\n",
    "    valid_only.replace(regex={numpattern: \"<NUM>\"}, inplace = True)\n",
    "    print(\"REPLACING NUMs DONE YAY\")\n",
    "\n",
    "    valid_only = valid_only.apply(remove_whitespace)\n",
    "    print(\"REMOVING WHITESPACE DONE YAY\")\n",
    "    \n",
    "    \n",
    "    if mode == \"return\":\n",
    "        return valid_only\n",
    "    elif mode == \"to_csv\":\n",
    "        valid_only.to_csv('../data/HALLAEOW.csv', index=False)  \n",
    "    elif mode == \"return_all_rows\":\n",
    "        df[\"content\"] = valid_only\n",
    "        return df\n",
    "    elif mode == \"all_rows_to_csv\":\n",
    "        df.iloc[:, 2] = valid_only\n",
    "        df.to_csv('Data/for_advanced_model/LIAR_CLEANED.tsv', sep=\"\\t\", index=False, header=False)  "
   ]
  },
  {
   "cell_type": "markdown",
   "metadata": {},
   "source": [
    "we clean"
   ]
  },
  {
   "cell_type": "code",
   "execution_count": null,
   "metadata": {},
   "outputs": [],
   "source": [
    "filename = \"Data/liardata/train.tsv\"\n",
    "clean_liar(filename, mode=\"all_rows_to_csv\")"
   ]
  },
  {
   "cell_type": "markdown",
   "metadata": {},
   "source": [
    "we make labels binary in fake and real"
   ]
  },
  {
   "cell_type": "code",
   "execution_count": null,
   "metadata": {},
   "outputs": [],
   "source": [
    "import pandas as pd\n",
    "\n",
    "df = pd.read_csv('Data/for_advanced_model/LIAR_CLEANED.tsv', header=None, delimiter='\\t')\n",
    "\n",
    "# Define a function to map types to categories\n",
    "def map_type(Thetype):\n",
    "    if str(Thetype) in ['false', 'pants-fire', 'barely-true']:\n",
    "        return 'fake'\n",
    "    if str(Thetype) in ['mostly-true', 'true']:\n",
    "        return 'real'\n",
    "    else:\n",
    "        return None  # Return None for types that don't match the conditions\n",
    "\n",
    "df[1] = df[1].apply(map_type)\n",
    "\n",
    "newting = df.drop(df[df[1].isnull()].index)\n",
    "\n",
    "# Save the modified DataFrame to a new TSV file\n",
    "newting.to_csv('Data/for_advanced_model/LIAR_CLEANED_BINARY.tsv', sep='\\t', index=False, header=False)"
   ]
  },
  {
   "cell_type": "markdown",
   "metadata": {},
   "source": [
    "we can now assess performance on LIAR for all models."
   ]
  },
  {
   "cell_type": "code",
   "execution_count": null,
   "metadata": {},
   "outputs": [],
   "source": [
    "# We load all models and vectorizers\n",
    "model_only_cleaned = joblib.load(\"Data/for_advanced_model/dumps/without_stem_and_stop_word_removal/39MODEL.joblib\")\n",
    "\n",
    "vectorizer_only_cleaned = joblib.load(\"Data/for_advanced_model/dumps/without_stem_and_stop_word_removal/39vectorizer.joblib\")\n",
    "\n",
    "model_with_stem_and_stopword_removal = joblib.load(\"Data/for_advanced_model/dumps/with_stem_and_stop_word_removal/39MODEL.joblib\")\n",
    "vectorizer_with_stem_and_stopword_removal = joblib.load(\"Data/for_advanced_model/dumps/with_stem_and_stop_word_removal/39vectorizer.joblib\")"
   ]
  },
  {
   "cell_type": "markdown",
   "metadata": {},
   "source": [
    "we now load LIAR DATA, vectorize them, predict on them and print metrics report."
   ]
  },
  {
   "cell_type": "code",
   "execution_count": null,
   "metadata": {},
   "outputs": [],
   "source": [
    "filename = 'Data/for_advanced_model/LIAR_CLEANED_BINARY.tsv' \n",
    "df = pd.read_csv(filename, header=None, delimiter='\\t')\n",
    "\n",
    "X_liar = df.iloc[:, 2].dropna()\n",
    "Y_liar = df.iloc[:, 1].dropna()\n",
    "\n",
    "X_liar_only_cleaned = vectorizer_only_cleaned.transform(X_liar)\n",
    "\n",
    "Y_liar_only_cleaned_pred = model_only_cleaned.predict(X_liar_only_cleaned)\n",
    "\n",
    "\n",
    "print(\"\\n\\nFOR LIAR on ONLY CLEANED\\n\")\n",
    "report_LIAR_only_cleaned  = classification_report(Y_liar, Y_liar_only_cleaned_pred, digits=3)\n",
    "\n",
    "print(report_LIAR_only_cleaned)\n",
    "\n",
    "import matplotlib.pyplot as plt\n",
    "import seaborn as sns\n",
    "\n",
    "# Assuming Y_true and Y_pred are your true labels and predicted labels, respectively\n",
    "# Compute confusion matrix\n",
    "cm = confusion_matrix(Y_liar, Y_liar_only_cleaned_pred)\n",
    "\n",
    "# Create a heatmap visualization of the confusion matrix\n",
    "plt.figure(figsize=(8, 6))\n",
    "sns.heatmap(cm, annot=True, fmt=\"d\", cmap=\"Blues\")\n",
    "plt.xlabel('Predicted labels')\n",
    "plt.ylabel('True labels')\n",
    "plt.title('Confusion Matrix')\n",
    "plt.show()\n"
   ]
  },
  {
   "cell_type": "code",
   "execution_count": null,
   "metadata": {},
   "outputs": [],
   "source": [
    "filename = 'Data/for_advanced_model/LIAR_CLEANED.tsv' \n",
    "df = pd.read_csv(filename, header=None, delimiter='\\t')\n",
    "\n",
    "\n",
    "X_liar_stemmed_stop_words = vectorizer_with_stem_and_stopword_removal.transform(X_liar)\n",
    "\n",
    "Y_liar_stemmed_stopwords_pred = model_with_stem_and_stopword_removal.predict(X_liar_stemmed_stop_words)\n",
    "\n",
    "\n",
    "print(\"\\n\\nFOR LIAR on STEMMED AND STOP WORDS REMOVED\\n\")\n",
    "report_LIAR_stemmed_stop_words  = classification_report(Y_liar, Y_liar_stemmed_stopwords_pred, digits=3)\n",
    "\n",
    "print(report_LIAR_stemmed_stop_words)\n",
    "\n",
    "# Assuming Y_true and Y_pred are your true labels and predicted labels, respectively\n",
    "# Compute confusion matrix\n",
    "cm = confusion_matrix(Y_liar, Y_liar_only_cleaned_pred)\n",
    "\n",
    "# Create a heatmap visualization of the confusion matrix\n",
    "plt.figure(figsize=(8, 6))\n",
    "sns.heatmap(cm, annot=True, fmt=\"d\", cmap=\"Blues\")\n",
    "plt.xlabel('Predicted labels')\n",
    "plt.ylabel('True labels')\n",
    "plt.title('Confusion Matrix')\n",
    "plt.show()\n"
   ]
  },
  {
   "cell_type": "markdown",
   "metadata": {},
   "source": [
    "we will also test on BBC news to validate, that model is better with longer articles. \n",
    "We will clean BBC articles. We make a new variant of clean text matching to bbc "
   ]
  },
  {
   "cell_type": "code",
   "execution_count": null,
   "metadata": {},
   "outputs": [],
   "source": [
    "\n",
    "\n",
    "def clean_bbc(filename, mode):\n",
    "    df = pd.read_csv(filename)\n",
    "    valid_only = df[\"text\"].dropna()\n",
    "    print(\"DROPPING NONE DONE YAY\")\n",
    "    valid_only = valid_only.apply( lambda x : x.lower() )\n",
    "\n",
    "    print(valid_only[0])\n",
    "    print(\"LOWERCASING DONE YAY\")\n",
    "\n",
    "    urlpattern = r\"\\b(https?://[\\w\\.\\-]*\\w+|www\\d*)\\.\\w+[/\\w\\-\\.\\?=%#]+\"\n",
    "    valid_only.replace(regex={urlpattern: \"<URL>\"}, inplace = True)\n",
    "    print(\"REPLACING URLs DONE YAY\")\n",
    "    emailpattern = r\"\\b[\\w\\-\\.]+@[\\w\\-\\.]+\"\n",
    "    valid_only.replace(regex={emailpattern: \"<EMAIL>\"}, inplace = True)\n",
    "    print(\"REPLACING EMAILS DONE YAY\")\n",
    "\n",
    "    datepattern = r\"\\b(\\d{4})-?(0[1-9]|1[0-2])-?(0[1-9]|[12][0-9]|3[01])\\b\"\n",
    "    valid_only.replace(regex={datepattern: \"<DATE>\"}, inplace = True)\n",
    "    print(\"REPLACING DATEs DONE YAY\")\n",
    "\n",
    "    numpattern = r\"\\$?\\+?\\d+(st?|nd?|rd?|th?)?\"\n",
    "    valid_only.replace(regex={numpattern: \"<NUM>\"}, inplace = True)\n",
    "    print(\"REPLACING NUMs DONE YAY\")\n",
    "\n",
    "    valid_only = valid_only.apply(remove_whitespace)\n",
    "    print(\"REMOVING WHITESPACE DONE YAY\")\n",
    "    \n",
    "    \n",
    "    if mode == \"return\":\n",
    "        return valid_only\n",
    "    elif mode == \"to_csv\":\n",
    "        valid_only.to_csv('../data/HALLAEOW.csv', index=False)  \n",
    "    elif mode == \"return_all_rows\":\n",
    "        df[\"content\"] = valid_only\n",
    "        return df\n",
    "    elif mode == \"all_rows_to_csv\":\n",
    "        df[\"text\"] = valid_only\n",
    "        df.to_csv('Data/for_advanced_model/BBC_CLEANED.csv', index=False)  \n",
    "\n"
   ]
  },
  {
   "cell_type": "code",
   "execution_count": null,
   "metadata": {},
   "outputs": [],
   "source": [
    "filename = \"Data/otherdata/BBC.csv\"\n",
    "clean_bbc(filename, mode=\"all_rows_to_csv\")"
   ]
  },
  {
   "cell_type": "markdown",
   "metadata": {},
   "source": [
    "we have cleaned bbc articles now. Now we can see accuracy. We do the same as for LIAR."
   ]
  },
  {
   "cell_type": "code",
   "execution_count": null,
   "metadata": {},
   "outputs": [],
   "source": [
    "filename = 'Data/for_advanced_model/BBC_CLEANED.csv' \n",
    "df = pd.read_csv(filename)\n",
    "\n",
    "print(\"halla\")\n",
    "\n",
    "df.dropna(subset=[\"text\"], inplace=True)\n",
    "print(\"abow\")\n",
    "\n",
    "X_bbc = df[\"text\"]\n",
    "print(\"X\")\n",
    "Y_bbc = pd.Series( [\"real\"] * len(X_bbc))\n",
    "\n",
    "X_bbc_cleaned = vectorizer_only_cleaned.transform(X_bbc)\n",
    "\n",
    "Y_pred = model_only_cleaned.predict(X_bbc_cleaned)\n",
    "\n",
    "\n",
    "print(\"\\n\\nFOR LIAR on ONLY CLEANED\\n\")\n",
    "report_bbc  = classification_report(Y_bbc, Y_pred, digits=3)\n",
    "\n",
    "print(report_bbc)\n",
    "\n",
    "import matplotlib.pyplot as plt\n",
    "import seaborn as sns\n",
    "\n",
    "# Assuming Y_true and Y_pred are your true labels and predicted labels, respectively\n",
    "# Compute confusion matrix\n",
    "cm = confusion_matrix(Y_bbc, Y_pred)\n",
    "\n",
    "# Create a heatmap visualization of the confusion matrix\n",
    "plt.figure(figsize=(8, 6))\n",
    "sns.heatmap(cm, annot=True, fmt=\"d\", cmap=\"Blues\")\n",
    "plt.xlabel('Predicted labels')\n",
    "plt.ylabel('True labels')\n",
    "plt.title('Confusion Matrix')\n",
    "plt.show()\n"
   ]
  },
  {
   "cell_type": "markdown",
   "metadata": {},
   "source": [
    "we do the same for with stemming and removal of stop words "
   ]
  },
  {
   "cell_type": "code",
   "execution_count": null,
   "metadata": {},
   "outputs": [],
   "source": [
    "filename = 'Data/for_advanced_model/BBC_CLEANED.csv' \n",
    "df = pd.read_csv(filename)\n",
    "\n",
    "print(\"halla\")\n",
    "\n",
    "\n",
    "X_bbc_stem_stopwords = vectorizer_only_cleaned.transform(X_bbc)\n",
    "\n",
    "Y_pred = model_only_cleaned.predict(X_bbc_stem_stopwords)\n",
    "\n",
    "\n",
    "print(\"\\n\\nFOR LIAR on STEMMED AND REMOVED STOP WORDS \\n\")\n",
    "report_bbc  = classification_report(Y_bbc, Y_pred, digits=3)\n",
    "\n",
    "print(report_bbc)\n",
    "\n",
    "import matplotlib.pyplot as plt\n",
    "import seaborn as sns\n",
    "\n",
    "# Assuming Y_true and Y_pred are your true labels and predicted labels, respectively\n",
    "# Compute confusion matrix\n",
    "cm = confusion_matrix(Y_bbc, Y_pred)\n",
    "\n",
    "# Create a heatmap visualization of the confusion matrix\n",
    "plt.figure(figsize=(8, 6))\n",
    "sns.heatmap(cm, annot=True, fmt=\"d\", cmap=\"Blues\")\n",
    "plt.xlabel('Predicted labels')\n",
    "plt.ylabel('True labels')\n",
    "plt.title('Confusion Matrix')\n",
    "plt.show()\n"
   ]
  }
 ],
 "metadata": {
  "kernelspec": {
   "display_name": "First",
   "language": "python",
   "name": "python3"
  },
  "language_info": {
   "codemirror_mode": {
    "name": "ipython",
    "version": 3
   },
   "file_extension": ".py",
   "mimetype": "text/x-python",
   "name": "python",
   "nbconvert_exporter": "python",
   "pygments_lexer": "ipython3",
   "version": "3.11.8"
  }
 },
 "nbformat": 4,
 "nbformat_minor": 2
}
